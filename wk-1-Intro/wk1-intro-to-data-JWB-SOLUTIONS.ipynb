{
 "cells": [
  {
   "cell_type": "markdown",
   "id": "c9ae1724",
   "metadata": {},
   "source": [
    "## Part 1: A quick tour of Jupyter notebooks"
   ]
  },
  {
   "cell_type": "code",
   "execution_count": 45,
   "id": "5be81add",
   "metadata": {},
   "outputs": [],
   "source": [
    "# Basic \"unit\" is a cell"
   ]
  },
  {
   "cell_type": "markdown",
   "id": "b45c6668",
   "metadata": {},
   "source": [
    "Cells can be code or text (markdown)"
   ]
  },
  {
   "cell_type": "code",
   "execution_count": 46,
   "id": "7e440070",
   "metadata": {},
   "outputs": [
    {
     "data": {
      "text/plain": [
       "6"
      ]
     },
     "execution_count": 46,
     "metadata": {},
     "output_type": "execute_result"
    }
   ],
   "source": [
    "# How do we execute a line of code?\n",
    "\n",
    "# TODO: Write some code to compute the value of 3+3\n",
    "3 + 3"
   ]
  },
  {
   "cell_type": "code",
   "execution_count": 47,
   "id": "346bf16d",
   "metadata": {},
   "outputs": [],
   "source": [
    "# We can store variables\n",
    "\n",
    "# TODO: Make a variable called myDog and assign it the value \"Laika\"\n",
    "myDog = \"Laika\""
   ]
  },
  {
   "cell_type": "code",
   "execution_count": 48,
   "id": "3cc884bd",
   "metadata": {},
   "outputs": [],
   "source": [
    "# We can view the variable directly, or print it out"
   ]
  },
  {
   "cell_type": "code",
   "execution_count": 49,
   "id": "5cd227c9",
   "metadata": {},
   "outputs": [],
   "source": [
    "# We can also write functions and execute them\n",
    "\n",
    "# TODO: Write a function that accepts a string and then does something, anything, with it\n",
    "\n",
    "def isDogAwesome(dog):\n",
    "    if dog == \"Laika\":\n",
    "        print(dog + \" is so rad!\")\n",
    "    else:\n",
    "        print(\"Maybe? I'd love to meet \" + dog)"
   ]
  },
  {
   "cell_type": "code",
   "execution_count": 50,
   "id": "cbd41218",
   "metadata": {},
   "outputs": [
    {
     "name": "stdout",
     "output_type": "stream",
     "text": [
      "Laika is so rad!\n"
     ]
    }
   ],
   "source": [
    "# TODO: Write code that calls the function you just wrote and passes in the variable myDog\n",
    "isDogAwesome(myDog)"
   ]
  },
  {
   "cell_type": "code",
   "execution_count": 51,
   "id": "1acf30e9",
   "metadata": {},
   "outputs": [],
   "source": [
    "# Remember...\n",
    "# Order matters!\n",
    "# You can execute a single cell, or run them all...\n",
    "# You can also MOVE cells around... or insert cells anywhere\n",
    "# And you can split cells...or merge them\n",
    "# It can all get confusing... if you need a reset, you can always restart your Kernel"
   ]
  },
  {
   "cell_type": "code",
   "execution_count": 52,
   "id": "e1c10be3",
   "metadata": {},
   "outputs": [],
   "source": [
    "# And we can import packages\n",
    "# This can be packages we write ourselves, i.e. a .py file\n",
    "# Or it can be packages we have installed on our computer (a bunch came with Anaconda)\n",
    "# We'll be using numpy and pandas to start\n",
    "\n",
    "# TODO: Write the code you need to import Numpy and Pandas\n",
    "# Note: np and pd are shorthand, and they are conventions (you could call them whatever you want)\n",
    "import numpy as np\n",
    "import pandas as pd\n"
   ]
  },
  {
   "cell_type": "markdown",
   "id": "6e538b4b",
   "metadata": {},
   "source": [
    "## Part 2: Let's get some data!"
   ]
  },
  {
   "cell_type": "markdown",
   "id": "1d2b8cf2",
   "metadata": {},
   "source": [
    "### Let's import some data!\n",
    "We'll be using data about the **cost of launching stuff into space** over time. It comes from [Our World in Data](https://ourworldindata.org/grapher/cost-space-launches-low-earth-orbit).\n",
    "\n",
    "Go check out this link (always always seek out the source!). What do you notice?"
   ]
  },
  {
   "cell_type": "code",
   "execution_count": 53,
   "id": "0d4a526f",
   "metadata": {},
   "outputs": [],
   "source": [
    "# Let's load in the data, which is in the form of a CSV file\n",
    "\n",
    "# TODO: Write a line of code to import \"cost-space-lauches.csv\" and save it as a DataFrame called df_launch\n",
    "# Note: Where is your CSV file, and do you have the correct file path?\n",
    "df_launch = pd.read_csv(\"cost-space-launches.csv\")"
   ]
  },
  {
   "cell_type": "code",
   "execution_count": 54,
   "id": "a060a92d",
   "metadata": {},
   "outputs": [
    {
     "data": {
      "text/html": [
       "<div>\n",
       "<style scoped>\n",
       "    .dataframe tbody tr th:only-of-type {\n",
       "        vertical-align: middle;\n",
       "    }\n",
       "\n",
       "    .dataframe tbody tr th {\n",
       "        vertical-align: top;\n",
       "    }\n",
       "\n",
       "    .dataframe thead th {\n",
       "        text-align: right;\n",
       "    }\n",
       "</style>\n",
       "<table border=\"1\" class=\"dataframe\">\n",
       "  <thead>\n",
       "    <tr style=\"text-align: right;\">\n",
       "      <th></th>\n",
       "      <th>Entity</th>\n",
       "      <th>Code</th>\n",
       "      <th>Year</th>\n",
       "      <th>cost_per_kg</th>\n",
       "      <th>launch_class</th>\n",
       "    </tr>\n",
       "  </thead>\n",
       "  <tbody>\n",
       "    <tr>\n",
       "      <th>0</th>\n",
       "      <td>Angara</td>\n",
       "      <td>NaN</td>\n",
       "      <td>2014</td>\n",
       "      <td>4500</td>\n",
       "      <td>Heavy</td>\n",
       "    </tr>\n",
       "    <tr>\n",
       "      <th>1</th>\n",
       "      <td>Antares</td>\n",
       "      <td>NaN</td>\n",
       "      <td>2013</td>\n",
       "      <td>13600</td>\n",
       "      <td>Medium</td>\n",
       "    </tr>\n",
       "    <tr>\n",
       "      <th>2</th>\n",
       "      <td>Ariane 44</td>\n",
       "      <td>NaN</td>\n",
       "      <td>1988</td>\n",
       "      <td>18300</td>\n",
       "      <td>Medium</td>\n",
       "    </tr>\n",
       "    <tr>\n",
       "      <th>3</th>\n",
       "      <td>Ariane 5G</td>\n",
       "      <td>NaN</td>\n",
       "      <td>1997</td>\n",
       "      <td>10200</td>\n",
       "      <td>Heavy</td>\n",
       "    </tr>\n",
       "    <tr>\n",
       "      <th>4</th>\n",
       "      <td>Athena 1</td>\n",
       "      <td>NaN</td>\n",
       "      <td>1997</td>\n",
       "      <td>19200</td>\n",
       "      <td>Small</td>\n",
       "    </tr>\n",
       "    <tr>\n",
       "      <th>...</th>\n",
       "      <td>...</td>\n",
       "      <td>...</td>\n",
       "      <td>...</td>\n",
       "      <td>...</td>\n",
       "      <td>...</td>\n",
       "    </tr>\n",
       "    <tr>\n",
       "      <th>56</th>\n",
       "      <td>Titan III+</td>\n",
       "      <td>NaN</td>\n",
       "      <td>1965</td>\n",
       "      <td>21000</td>\n",
       "      <td>Medium</td>\n",
       "    </tr>\n",
       "    <tr>\n",
       "      <th>57</th>\n",
       "      <td>Titan IV</td>\n",
       "      <td>NaN</td>\n",
       "      <td>1989</td>\n",
       "      <td>30800</td>\n",
       "      <td>Heavy</td>\n",
       "    </tr>\n",
       "    <tr>\n",
       "      <th>58</th>\n",
       "      <td>Vega</td>\n",
       "      <td>NaN</td>\n",
       "      <td>2012</td>\n",
       "      <td>20000</td>\n",
       "      <td>Small</td>\n",
       "    </tr>\n",
       "    <tr>\n",
       "      <th>59</th>\n",
       "      <td>Zenit 2</td>\n",
       "      <td>NaN</td>\n",
       "      <td>1985</td>\n",
       "      <td>5100</td>\n",
       "      <td>Medium</td>\n",
       "    </tr>\n",
       "    <tr>\n",
       "      <th>60</th>\n",
       "      <td>Zenit 3SL</td>\n",
       "      <td>NaN</td>\n",
       "      <td>1999</td>\n",
       "      <td>8900</td>\n",
       "      <td>Medium</td>\n",
       "    </tr>\n",
       "  </tbody>\n",
       "</table>\n",
       "<p>61 rows × 5 columns</p>\n",
       "</div>"
      ],
      "text/plain": [
       "        Entity  Code  Year  cost_per_kg launch_class\n",
       "0       Angara   NaN  2014         4500        Heavy\n",
       "1      Antares   NaN  2013        13600       Medium\n",
       "2    Ariane 44   NaN  1988        18300       Medium\n",
       "3    Ariane 5G   NaN  1997        10200        Heavy\n",
       "4     Athena 1   NaN  1997        19200        Small\n",
       "..         ...   ...   ...          ...          ...\n",
       "56  Titan III+   NaN  1965        21000       Medium\n",
       "57    Titan IV   NaN  1989        30800        Heavy\n",
       "58        Vega   NaN  2012        20000        Small\n",
       "59     Zenit 2   NaN  1985         5100       Medium\n",
       "60   Zenit 3SL   NaN  1999         8900       Medium\n",
       "\n",
       "[61 rows x 5 columns]"
      ]
     },
     "execution_count": 54,
     "metadata": {},
     "output_type": "execute_result"
    }
   ],
   "source": [
    "# Now let's look at it\n",
    "# What do you notice?\n",
    "df_launch"
   ]
  },
  {
   "cell_type": "code",
   "execution_count": 55,
   "id": "ac3b050e",
   "metadata": {},
   "outputs": [],
   "source": [
    "# How many columns? What are they?\n",
    "# How many rows? What does each row represent?\n",
    "\n",
    "# TODO: Write a line of code that displays the header\n",
    "# TODO: Write a line of code that displays the first 10 rows"
   ]
  },
  {
   "cell_type": "code",
   "execution_count": 56,
   "id": "54a20f5a",
   "metadata": {},
   "outputs": [
    {
     "data": {
      "text/html": [
       "<div>\n",
       "<style scoped>\n",
       "    .dataframe tbody tr th:only-of-type {\n",
       "        vertical-align: middle;\n",
       "    }\n",
       "\n",
       "    .dataframe tbody tr th {\n",
       "        vertical-align: top;\n",
       "    }\n",
       "\n",
       "    .dataframe thead th {\n",
       "        text-align: right;\n",
       "    }\n",
       "</style>\n",
       "<table border=\"1\" class=\"dataframe\">\n",
       "  <thead>\n",
       "    <tr style=\"text-align: right;\">\n",
       "      <th></th>\n",
       "      <th>Entity</th>\n",
       "      <th>Code</th>\n",
       "      <th>Year</th>\n",
       "      <th>cost_per_kg</th>\n",
       "      <th>launch_class</th>\n",
       "    </tr>\n",
       "  </thead>\n",
       "  <tbody>\n",
       "    <tr>\n",
       "      <th>0</th>\n",
       "      <td>Angara</td>\n",
       "      <td>NaN</td>\n",
       "      <td>2014</td>\n",
       "      <td>4500</td>\n",
       "      <td>Heavy</td>\n",
       "    </tr>\n",
       "    <tr>\n",
       "      <th>1</th>\n",
       "      <td>Antares</td>\n",
       "      <td>NaN</td>\n",
       "      <td>2013</td>\n",
       "      <td>13600</td>\n",
       "      <td>Medium</td>\n",
       "    </tr>\n",
       "    <tr>\n",
       "      <th>2</th>\n",
       "      <td>Ariane 44</td>\n",
       "      <td>NaN</td>\n",
       "      <td>1988</td>\n",
       "      <td>18300</td>\n",
       "      <td>Medium</td>\n",
       "    </tr>\n",
       "    <tr>\n",
       "      <th>3</th>\n",
       "      <td>Ariane 5G</td>\n",
       "      <td>NaN</td>\n",
       "      <td>1997</td>\n",
       "      <td>10200</td>\n",
       "      <td>Heavy</td>\n",
       "    </tr>\n",
       "    <tr>\n",
       "      <th>4</th>\n",
       "      <td>Athena 1</td>\n",
       "      <td>NaN</td>\n",
       "      <td>1997</td>\n",
       "      <td>19200</td>\n",
       "      <td>Small</td>\n",
       "    </tr>\n",
       "    <tr>\n",
       "      <th>5</th>\n",
       "      <td>Atlas Centaur</td>\n",
       "      <td>NaN</td>\n",
       "      <td>1963</td>\n",
       "      <td>29500</td>\n",
       "      <td>Medium</td>\n",
       "    </tr>\n",
       "    <tr>\n",
       "      <th>6</th>\n",
       "      <td>Atlas II</td>\n",
       "      <td>NaN</td>\n",
       "      <td>1991</td>\n",
       "      <td>18700</td>\n",
       "      <td>Medium</td>\n",
       "    </tr>\n",
       "    <tr>\n",
       "      <th>7</th>\n",
       "      <td>Atlas III</td>\n",
       "      <td>NaN</td>\n",
       "      <td>2000</td>\n",
       "      <td>16000</td>\n",
       "      <td>Medium</td>\n",
       "    </tr>\n",
       "    <tr>\n",
       "      <th>8</th>\n",
       "      <td>Atlas V</td>\n",
       "      <td>NaN</td>\n",
       "      <td>2002</td>\n",
       "      <td>8100</td>\n",
       "      <td>Medium</td>\n",
       "    </tr>\n",
       "    <tr>\n",
       "      <th>9</th>\n",
       "      <td>Delta 3000-Series</td>\n",
       "      <td>NaN</td>\n",
       "      <td>1975</td>\n",
       "      <td>21400</td>\n",
       "      <td>Small</td>\n",
       "    </tr>\n",
       "  </tbody>\n",
       "</table>\n",
       "</div>"
      ],
      "text/plain": [
       "              Entity  Code  Year  cost_per_kg launch_class\n",
       "0             Angara   NaN  2014         4500        Heavy\n",
       "1            Antares   NaN  2013        13600       Medium\n",
       "2          Ariane 44   NaN  1988        18300       Medium\n",
       "3          Ariane 5G   NaN  1997        10200        Heavy\n",
       "4           Athena 1   NaN  1997        19200        Small\n",
       "5      Atlas Centaur   NaN  1963        29500       Medium\n",
       "6           Atlas II   NaN  1991        18700       Medium\n",
       "7          Atlas III   NaN  2000        16000       Medium\n",
       "8            Atlas V   NaN  2002         8100       Medium\n",
       "9  Delta 3000-Series   NaN  1975        21400        Small"
      ]
     },
     "execution_count": 56,
     "metadata": {},
     "output_type": "execute_result"
    }
   ],
   "source": [
    "df_launch.head(10)"
   ]
  },
  {
   "cell_type": "code",
   "execution_count": 57,
   "id": "871b9914",
   "metadata": {},
   "outputs": [
    {
     "data": {
      "text/html": [
       "<div>\n",
       "<style scoped>\n",
       "    .dataframe tbody tr th:only-of-type {\n",
       "        vertical-align: middle;\n",
       "    }\n",
       "\n",
       "    .dataframe tbody tr th {\n",
       "        vertical-align: top;\n",
       "    }\n",
       "\n",
       "    .dataframe thead th {\n",
       "        text-align: right;\n",
       "    }\n",
       "</style>\n",
       "<table border=\"1\" class=\"dataframe\">\n",
       "  <thead>\n",
       "    <tr style=\"text-align: right;\">\n",
       "      <th></th>\n",
       "      <th>Code</th>\n",
       "      <th>Year</th>\n",
       "      <th>cost_per_kg</th>\n",
       "    </tr>\n",
       "  </thead>\n",
       "  <tbody>\n",
       "    <tr>\n",
       "      <th>count</th>\n",
       "      <td>0.0</td>\n",
       "      <td>61.000000</td>\n",
       "      <td>61.000000</td>\n",
       "    </tr>\n",
       "    <tr>\n",
       "      <th>mean</th>\n",
       "      <td>NaN</td>\n",
       "      <td>1993.262295</td>\n",
       "      <td>23278.688525</td>\n",
       "    </tr>\n",
       "    <tr>\n",
       "      <th>std</th>\n",
       "      <td>NaN</td>\n",
       "      <td>16.615155</td>\n",
       "      <td>27843.174596</td>\n",
       "    </tr>\n",
       "    <tr>\n",
       "      <th>min</th>\n",
       "      <td>NaN</td>\n",
       "      <td>1961.000000</td>\n",
       "      <td>1500.000000</td>\n",
       "    </tr>\n",
       "    <tr>\n",
       "      <th>25%</th>\n",
       "      <td>NaN</td>\n",
       "      <td>1985.000000</td>\n",
       "      <td>8900.000000</td>\n",
       "    </tr>\n",
       "    <tr>\n",
       "      <th>50%</th>\n",
       "      <td>NaN</td>\n",
       "      <td>1996.000000</td>\n",
       "      <td>16000.000000</td>\n",
       "    </tr>\n",
       "    <tr>\n",
       "      <th>75%</th>\n",
       "      <td>NaN</td>\n",
       "      <td>2003.000000</td>\n",
       "      <td>29500.000000</td>\n",
       "    </tr>\n",
       "    <tr>\n",
       "      <th>max</th>\n",
       "      <td>NaN</td>\n",
       "      <td>2019.000000</td>\n",
       "      <td>177900.000000</td>\n",
       "    </tr>\n",
       "  </tbody>\n",
       "</table>\n",
       "</div>"
      ],
      "text/plain": [
       "       Code         Year    cost_per_kg\n",
       "count   0.0    61.000000      61.000000\n",
       "mean    NaN  1993.262295   23278.688525\n",
       "std     NaN    16.615155   27843.174596\n",
       "min     NaN  1961.000000    1500.000000\n",
       "25%     NaN  1985.000000    8900.000000\n",
       "50%     NaN  1996.000000   16000.000000\n",
       "75%     NaN  2003.000000   29500.000000\n",
       "max     NaN  2019.000000  177900.000000"
      ]
     },
     "execution_count": 57,
     "metadata": {},
     "output_type": "execute_result"
    }
   ],
   "source": [
    "# Let's get a summary\n",
    "df_launch.describe()"
   ]
  },
  {
   "cell_type": "code",
   "execution_count": 58,
   "id": "8469182c",
   "metadata": {},
   "outputs": [
    {
     "data": {
      "text/plain": [
       "0     2014\n",
       "1     2013\n",
       "2     1988\n",
       "3     1997\n",
       "4     1997\n",
       "      ... \n",
       "56    1965\n",
       "57    1989\n",
       "58    2012\n",
       "59    1985\n",
       "60    1999\n",
       "Name: Year, Length: 61, dtype: int64"
      ]
     },
     "execution_count": 58,
     "metadata": {},
     "output_type": "execute_result"
    }
   ],
   "source": [
    "# How do we select a single column?\n",
    "df_launch[\"Year\"]"
   ]
  },
  {
   "cell_type": "code",
   "execution_count": 59,
   "id": "a61b878b",
   "metadata": {},
   "outputs": [
    {
     "data": {
      "text/plain": [
       "Entity          Ariane 44\n",
       "Code                  NaN\n",
       "Year                 1988\n",
       "cost_per_kg         18300\n",
       "launch_class       Medium\n",
       "Name: 2, dtype: object"
      ]
     },
     "execution_count": 59,
     "metadata": {},
     "output_type": "execute_result"
    }
   ],
   "source": [
    "# How do we select a single row?\n",
    "df_launch.iloc[2]"
   ]
  },
  {
   "cell_type": "code",
   "execution_count": 60,
   "id": "85ace8e1",
   "metadata": {},
   "outputs": [
    {
     "data": {
      "text/plain": [
       "2014"
      ]
     },
     "execution_count": 60,
     "metadata": {},
     "output_type": "execute_result"
    }
   ],
   "source": [
    "# And how do we select value within the Year column?\n",
    "df_launch[\"Year\"][0]"
   ]
  },
  {
   "cell_type": "code",
   "execution_count": 61,
   "id": "00b7a3c9",
   "metadata": {},
   "outputs": [
    {
     "data": {
      "text/plain": [
       "0      4500\n",
       "1     13600\n",
       "2     18300\n",
       "3     10200\n",
       "4     19200\n",
       "      ...  \n",
       "56    21000\n",
       "57    30800\n",
       "58    20000\n",
       "59     5100\n",
       "60     8900\n",
       "Name: cost_per_kg, Length: 61, dtype: int64"
      ]
     },
     "execution_count": 61,
     "metadata": {},
     "output_type": "execute_result"
    }
   ],
   "source": [
    "# TODO: Write a line of code to get the cost_per_kg colum\n",
    "df_launch[\"cost_per_kg\"]"
   ]
  },
  {
   "cell_type": "code",
   "execution_count": 62,
   "id": "75df964e",
   "metadata": {},
   "outputs": [
    {
     "data": {
      "text/plain": [
       "Entity          Atlas Centaur\n",
       "Code                      NaN\n",
       "Year                     1963\n",
       "cost_per_kg             29500\n",
       "launch_class           Medium\n",
       "Name: 5, dtype: object"
      ]
     },
     "execution_count": 62,
     "metadata": {},
     "output_type": "execute_result"
    }
   ],
   "source": [
    "# TODO: Write a line of code to get the 5th row\n",
    "df_launch.iloc[5]"
   ]
  },
  {
   "cell_type": "code",
   "execution_count": 63,
   "id": "90b42663",
   "metadata": {
    "scrolled": true
   },
   "outputs": [
    {
     "data": {
      "text/plain": [
       "'Heavy'"
      ]
     },
     "execution_count": 63,
     "metadata": {},
     "output_type": "execute_result"
    }
   ],
   "source": [
    "# TODO: Write some code to get the launch_class of the 3rd row\n",
    "df_launch[\"launch_class\"][3]"
   ]
  },
  {
   "cell_type": "code",
   "execution_count": 64,
   "id": "10f705f7",
   "metadata": {},
   "outputs": [
    {
     "data": {
      "text/plain": [
       "pandas.core.series.Series"
      ]
     },
     "execution_count": 64,
     "metadata": {},
     "output_type": "execute_result"
    }
   ],
   "source": [
    "# Now, what TYPES are they?\n",
    "type(df_launch[\"Year\"])"
   ]
  },
  {
   "cell_type": "code",
   "execution_count": 65,
   "id": "f2221c77",
   "metadata": {},
   "outputs": [
    {
     "data": {
      "text/plain": [
       "pandas.core.series.Series"
      ]
     },
     "execution_count": 65,
     "metadata": {},
     "output_type": "execute_result"
    }
   ],
   "source": [
    "type(df_launch.iloc[3])"
   ]
  },
  {
   "cell_type": "code",
   "execution_count": 66,
   "id": "c56b3ec8",
   "metadata": {},
   "outputs": [
    {
     "data": {
      "text/plain": [
       "numpy.int64"
      ]
     },
     "execution_count": 66,
     "metadata": {},
     "output_type": "execute_result"
    }
   ],
   "source": [
    "type(df_launch[\"Year\"][0])"
   ]
  },
  {
   "cell_type": "code",
   "execution_count": 67,
   "id": "12733b5b",
   "metadata": {},
   "outputs": [],
   "source": [
    "# Series are 1-dimensional arrays (basically lists)\n",
    "# Invidiaul values (cells) can be any data type (strings, integers, floating points, even lists)"
   ]
  },
  {
   "cell_type": "code",
   "execution_count": 68,
   "id": "521b4cb9",
   "metadata": {},
   "outputs": [
    {
     "name": "stdout",
     "output_type": "stream",
     "text": [
      "Entity\n",
      "<class 'str'>\n",
      "Code\n",
      "<class 'numpy.float64'>\n",
      "Year\n",
      "<class 'numpy.int64'>\n",
      "cost_per_kg\n",
      "<class 'numpy.int64'>\n",
      "launch_class\n",
      "<class 'str'>\n"
     ]
    }
   ],
   "source": [
    "# TODO: What (Python) types are the values in the other columns? \n",
    "# We can iterate over the columns in a dataframe!\n",
    "for column in df_launch:\n",
    "    print(column)\n",
    "    print(type(df_launch[column][0]))"
   ]
  },
  {
   "cell_type": "code",
   "execution_count": 81,
   "id": "b034772f",
   "metadata": {},
   "outputs": [
    {
     "data": {
      "text/plain": [
       "Entity           object\n",
       "Code            float64\n",
       "Year              int64\n",
       "cost_per_kg       int64\n",
       "launch_class     object\n",
       "dtype: object"
      ]
     },
     "execution_count": 81,
     "metadata": {},
     "output_type": "execute_result"
    }
   ],
   "source": [
    "# There's also an easy-peasy built in way with pandas using .dtypes...\n",
    "df_launch.dtypes"
   ]
  },
  {
   "cell_type": "code",
   "execution_count": 82,
   "id": "52faaa54",
   "metadata": {},
   "outputs": [
    {
     "name": "stdout",
     "output_type": "stream",
     "text": [
      "<class 'pandas.core.frame.DataFrame'>\n",
      "RangeIndex: 61 entries, 0 to 60\n",
      "Data columns (total 5 columns):\n",
      " #   Column        Non-Null Count  Dtype  \n",
      "---  ------        --------------  -----  \n",
      " 0   Entity        61 non-null     object \n",
      " 1   Code          0 non-null      float64\n",
      " 2   Year          61 non-null     int64  \n",
      " 3   cost_per_kg   61 non-null     int64  \n",
      " 4   launch_class  61 non-null     object \n",
      "dtypes: float64(1), int64(2), object(2)\n",
      "memory usage: 2.5+ KB\n"
     ]
    }
   ],
   "source": [
    "# Are you loving pandas yet??\n",
    "# Another built in trick pandas has is .info()... let's try it\n",
    "df_launch.info()"
   ]
  },
  {
   "cell_type": "code",
   "execution_count": 69,
   "id": "f1bd533f",
   "metadata": {},
   "outputs": [],
   "source": [
    "# What's going on with that \"Code\" column?\n",
    "# It has NaN (Not a Number) as its values -- this means missing data!\n",
    "# We have some tricks for dealing with this..."
   ]
  },
  {
   "cell_type": "code",
   "execution_count": 70,
   "id": "574d62cb",
   "metadata": {},
   "outputs": [],
   "source": [
    "# TODO: Make a new data frame that just has the columns we want (no Code column)\n",
    "# We can select a specific subset of columns in a dataframe using a list of column names\n",
    "df_new = df_launch[[\"Entity\",\"Year\",\"cost_per_kg\",\"launch_class\"]]"
   ]
  },
  {
   "cell_type": "code",
   "execution_count": 71,
   "id": "2d371997",
   "metadata": {},
   "outputs": [
    {
     "data": {
      "text/html": [
       "<div>\n",
       "<style scoped>\n",
       "    .dataframe tbody tr th:only-of-type {\n",
       "        vertical-align: middle;\n",
       "    }\n",
       "\n",
       "    .dataframe tbody tr th {\n",
       "        vertical-align: top;\n",
       "    }\n",
       "\n",
       "    .dataframe thead th {\n",
       "        text-align: right;\n",
       "    }\n",
       "</style>\n",
       "<table border=\"1\" class=\"dataframe\">\n",
       "  <thead>\n",
       "    <tr style=\"text-align: right;\">\n",
       "      <th></th>\n",
       "      <th>Entity</th>\n",
       "      <th>Year</th>\n",
       "      <th>cost_per_kg</th>\n",
       "      <th>launch_class</th>\n",
       "    </tr>\n",
       "  </thead>\n",
       "  <tbody>\n",
       "    <tr>\n",
       "      <th>0</th>\n",
       "      <td>Angara</td>\n",
       "      <td>2014</td>\n",
       "      <td>4500</td>\n",
       "      <td>Heavy</td>\n",
       "    </tr>\n",
       "    <tr>\n",
       "      <th>1</th>\n",
       "      <td>Antares</td>\n",
       "      <td>2013</td>\n",
       "      <td>13600</td>\n",
       "      <td>Medium</td>\n",
       "    </tr>\n",
       "    <tr>\n",
       "      <th>2</th>\n",
       "      <td>Ariane 44</td>\n",
       "      <td>1988</td>\n",
       "      <td>18300</td>\n",
       "      <td>Medium</td>\n",
       "    </tr>\n",
       "    <tr>\n",
       "      <th>3</th>\n",
       "      <td>Ariane 5G</td>\n",
       "      <td>1997</td>\n",
       "      <td>10200</td>\n",
       "      <td>Heavy</td>\n",
       "    </tr>\n",
       "    <tr>\n",
       "      <th>4</th>\n",
       "      <td>Athena 1</td>\n",
       "      <td>1997</td>\n",
       "      <td>19200</td>\n",
       "      <td>Small</td>\n",
       "    </tr>\n",
       "    <tr>\n",
       "      <th>...</th>\n",
       "      <td>...</td>\n",
       "      <td>...</td>\n",
       "      <td>...</td>\n",
       "      <td>...</td>\n",
       "    </tr>\n",
       "    <tr>\n",
       "      <th>56</th>\n",
       "      <td>Titan III+</td>\n",
       "      <td>1965</td>\n",
       "      <td>21000</td>\n",
       "      <td>Medium</td>\n",
       "    </tr>\n",
       "    <tr>\n",
       "      <th>57</th>\n",
       "      <td>Titan IV</td>\n",
       "      <td>1989</td>\n",
       "      <td>30800</td>\n",
       "      <td>Heavy</td>\n",
       "    </tr>\n",
       "    <tr>\n",
       "      <th>58</th>\n",
       "      <td>Vega</td>\n",
       "      <td>2012</td>\n",
       "      <td>20000</td>\n",
       "      <td>Small</td>\n",
       "    </tr>\n",
       "    <tr>\n",
       "      <th>59</th>\n",
       "      <td>Zenit 2</td>\n",
       "      <td>1985</td>\n",
       "      <td>5100</td>\n",
       "      <td>Medium</td>\n",
       "    </tr>\n",
       "    <tr>\n",
       "      <th>60</th>\n",
       "      <td>Zenit 3SL</td>\n",
       "      <td>1999</td>\n",
       "      <td>8900</td>\n",
       "      <td>Medium</td>\n",
       "    </tr>\n",
       "  </tbody>\n",
       "</table>\n",
       "<p>61 rows × 4 columns</p>\n",
       "</div>"
      ],
      "text/plain": [
       "        Entity  Year  cost_per_kg launch_class\n",
       "0       Angara  2014         4500        Heavy\n",
       "1      Antares  2013        13600       Medium\n",
       "2    Ariane 44  1988        18300       Medium\n",
       "3    Ariane 5G  1997        10200        Heavy\n",
       "4     Athena 1  1997        19200        Small\n",
       "..         ...   ...          ...          ...\n",
       "56  Titan III+  1965        21000       Medium\n",
       "57    Titan IV  1989        30800        Heavy\n",
       "58        Vega  2012        20000        Small\n",
       "59     Zenit 2  1985         5100       Medium\n",
       "60   Zenit 3SL  1999         8900       Medium\n",
       "\n",
       "[61 rows x 4 columns]"
      ]
     },
     "execution_count": 71,
     "metadata": {},
     "output_type": "execute_result"
    }
   ],
   "source": [
    "df_new"
   ]
  },
  {
   "cell_type": "code",
   "execution_count": 72,
   "id": "747b09fe",
   "metadata": {},
   "outputs": [
    {
     "data": {
      "text/plain": [
       "Medium    29\n",
       "Small     23\n",
       "Heavy      9\n",
       "Name: launch_class, dtype: int64"
      ]
     },
     "execution_count": 72,
     "metadata": {},
     "output_type": "execute_result"
    }
   ],
   "source": [
    "# How do we count the values of the launch class?\n",
    "df_new[\"launch_class\"].value_counts()"
   ]
  },
  {
   "cell_type": "code",
   "execution_count": 73,
   "id": "7e8d5196",
   "metadata": {},
   "outputs": [],
   "source": [
    "# How would be convert cost per kilogram to cost per pound?\n",
    "# TODO: Let's make a new column and do that...\n",
    "# Remember, 1 kg = 2.2 pounds (lbs)"
   ]
  },
  {
   "cell_type": "code",
   "execution_count": 74,
   "id": "e0d39620",
   "metadata": {},
   "outputs": [],
   "source": [
    "df_new[\"cost_per_lb\"] = df_new[\"cost_per_kg\"]/2.2"
   ]
  },
  {
   "cell_type": "code",
   "execution_count": 75,
   "id": "c602c3f9",
   "metadata": {},
   "outputs": [
    {
     "data": {
      "text/html": [
       "<div>\n",
       "<style scoped>\n",
       "    .dataframe tbody tr th:only-of-type {\n",
       "        vertical-align: middle;\n",
       "    }\n",
       "\n",
       "    .dataframe tbody tr th {\n",
       "        vertical-align: top;\n",
       "    }\n",
       "\n",
       "    .dataframe thead th {\n",
       "        text-align: right;\n",
       "    }\n",
       "</style>\n",
       "<table border=\"1\" class=\"dataframe\">\n",
       "  <thead>\n",
       "    <tr style=\"text-align: right;\">\n",
       "      <th></th>\n",
       "      <th>Entity</th>\n",
       "      <th>Year</th>\n",
       "      <th>cost_per_kg</th>\n",
       "      <th>launch_class</th>\n",
       "      <th>cost_per_lb</th>\n",
       "    </tr>\n",
       "  </thead>\n",
       "  <tbody>\n",
       "    <tr>\n",
       "      <th>0</th>\n",
       "      <td>Angara</td>\n",
       "      <td>2014</td>\n",
       "      <td>4500</td>\n",
       "      <td>Heavy</td>\n",
       "      <td>2045.454545</td>\n",
       "    </tr>\n",
       "    <tr>\n",
       "      <th>1</th>\n",
       "      <td>Antares</td>\n",
       "      <td>2013</td>\n",
       "      <td>13600</td>\n",
       "      <td>Medium</td>\n",
       "      <td>6181.818182</td>\n",
       "    </tr>\n",
       "    <tr>\n",
       "      <th>2</th>\n",
       "      <td>Ariane 44</td>\n",
       "      <td>1988</td>\n",
       "      <td>18300</td>\n",
       "      <td>Medium</td>\n",
       "      <td>8318.181818</td>\n",
       "    </tr>\n",
       "    <tr>\n",
       "      <th>3</th>\n",
       "      <td>Ariane 5G</td>\n",
       "      <td>1997</td>\n",
       "      <td>10200</td>\n",
       "      <td>Heavy</td>\n",
       "      <td>4636.363636</td>\n",
       "    </tr>\n",
       "    <tr>\n",
       "      <th>4</th>\n",
       "      <td>Athena 1</td>\n",
       "      <td>1997</td>\n",
       "      <td>19200</td>\n",
       "      <td>Small</td>\n",
       "      <td>8727.272727</td>\n",
       "    </tr>\n",
       "    <tr>\n",
       "      <th>...</th>\n",
       "      <td>...</td>\n",
       "      <td>...</td>\n",
       "      <td>...</td>\n",
       "      <td>...</td>\n",
       "      <td>...</td>\n",
       "    </tr>\n",
       "    <tr>\n",
       "      <th>56</th>\n",
       "      <td>Titan III+</td>\n",
       "      <td>1965</td>\n",
       "      <td>21000</td>\n",
       "      <td>Medium</td>\n",
       "      <td>9545.454545</td>\n",
       "    </tr>\n",
       "    <tr>\n",
       "      <th>57</th>\n",
       "      <td>Titan IV</td>\n",
       "      <td>1989</td>\n",
       "      <td>30800</td>\n",
       "      <td>Heavy</td>\n",
       "      <td>14000.000000</td>\n",
       "    </tr>\n",
       "    <tr>\n",
       "      <th>58</th>\n",
       "      <td>Vega</td>\n",
       "      <td>2012</td>\n",
       "      <td>20000</td>\n",
       "      <td>Small</td>\n",
       "      <td>9090.909091</td>\n",
       "    </tr>\n",
       "    <tr>\n",
       "      <th>59</th>\n",
       "      <td>Zenit 2</td>\n",
       "      <td>1985</td>\n",
       "      <td>5100</td>\n",
       "      <td>Medium</td>\n",
       "      <td>2318.181818</td>\n",
       "    </tr>\n",
       "    <tr>\n",
       "      <th>60</th>\n",
       "      <td>Zenit 3SL</td>\n",
       "      <td>1999</td>\n",
       "      <td>8900</td>\n",
       "      <td>Medium</td>\n",
       "      <td>4045.454545</td>\n",
       "    </tr>\n",
       "  </tbody>\n",
       "</table>\n",
       "<p>61 rows × 5 columns</p>\n",
       "</div>"
      ],
      "text/plain": [
       "        Entity  Year  cost_per_kg launch_class   cost_per_lb\n",
       "0       Angara  2014         4500        Heavy   2045.454545\n",
       "1      Antares  2013        13600       Medium   6181.818182\n",
       "2    Ariane 44  1988        18300       Medium   8318.181818\n",
       "3    Ariane 5G  1997        10200        Heavy   4636.363636\n",
       "4     Athena 1  1997        19200        Small   8727.272727\n",
       "..         ...   ...          ...          ...           ...\n",
       "56  Titan III+  1965        21000       Medium   9545.454545\n",
       "57    Titan IV  1989        30800        Heavy  14000.000000\n",
       "58        Vega  2012        20000        Small   9090.909091\n",
       "59     Zenit 2  1985         5100       Medium   2318.181818\n",
       "60   Zenit 3SL  1999         8900       Medium   4045.454545\n",
       "\n",
       "[61 rows x 5 columns]"
      ]
     },
     "execution_count": 75,
     "metadata": {},
     "output_type": "execute_result"
    }
   ],
   "source": [
    "df_new"
   ]
  },
  {
   "cell_type": "code",
   "execution_count": 76,
   "id": "7eb71adf",
   "metadata": {},
   "outputs": [
    {
     "data": {
      "text/html": [
       "<div>\n",
       "<style scoped>\n",
       "    .dataframe tbody tr th:only-of-type {\n",
       "        vertical-align: middle;\n",
       "    }\n",
       "\n",
       "    .dataframe tbody tr th {\n",
       "        vertical-align: top;\n",
       "    }\n",
       "\n",
       "    .dataframe thead th {\n",
       "        text-align: right;\n",
       "    }\n",
       "</style>\n",
       "<table border=\"1\" class=\"dataframe\">\n",
       "  <thead>\n",
       "    <tr style=\"text-align: right;\">\n",
       "      <th></th>\n",
       "      <th>Entity</th>\n",
       "      <th>Year</th>\n",
       "      <th>cost_per_kg</th>\n",
       "      <th>launch_class</th>\n",
       "      <th>cost_per_lb</th>\n",
       "    </tr>\n",
       "  </thead>\n",
       "  <tbody>\n",
       "    <tr>\n",
       "      <th>11</th>\n",
       "      <td>Delta E</td>\n",
       "      <td>1965</td>\n",
       "      <td>177900</td>\n",
       "      <td>Medium</td>\n",
       "      <td>80863.636364</td>\n",
       "    </tr>\n",
       "    <tr>\n",
       "      <th>46</th>\n",
       "      <td>Scout</td>\n",
       "      <td>1961</td>\n",
       "      <td>118500</td>\n",
       "      <td>Small</td>\n",
       "      <td>53863.636364</td>\n",
       "    </tr>\n",
       "    <tr>\n",
       "      <th>37</th>\n",
       "      <td>Minotaur I</td>\n",
       "      <td>2000</td>\n",
       "      <td>73100</td>\n",
       "      <td>Small</td>\n",
       "      <td>33227.272727</td>\n",
       "    </tr>\n",
       "    <tr>\n",
       "      <th>51</th>\n",
       "      <td>Space Shuttle</td>\n",
       "      <td>1981</td>\n",
       "      <td>65400</td>\n",
       "      <td>Heavy</td>\n",
       "      <td>29727.272727</td>\n",
       "    </tr>\n",
       "    <tr>\n",
       "      <th>41</th>\n",
       "      <td>Pegasus XL</td>\n",
       "      <td>1996</td>\n",
       "      <td>50600</td>\n",
       "      <td>Small</td>\n",
       "      <td>23000.000000</td>\n",
       "    </tr>\n",
       "    <tr>\n",
       "      <th>...</th>\n",
       "      <td>...</td>\n",
       "      <td>...</td>\n",
       "      <td>...</td>\n",
       "      <td>...</td>\n",
       "      <td>...</td>\n",
       "    </tr>\n",
       "    <tr>\n",
       "      <th>45</th>\n",
       "      <td>Saturn V</td>\n",
       "      <td>1967</td>\n",
       "      <td>5400</td>\n",
       "      <td>Heavy</td>\n",
       "      <td>2454.545455</td>\n",
       "    </tr>\n",
       "    <tr>\n",
       "      <th>59</th>\n",
       "      <td>Zenit 2</td>\n",
       "      <td>1985</td>\n",
       "      <td>5100</td>\n",
       "      <td>Medium</td>\n",
       "      <td>2318.181818</td>\n",
       "    </tr>\n",
       "    <tr>\n",
       "      <th>0</th>\n",
       "      <td>Angara</td>\n",
       "      <td>2014</td>\n",
       "      <td>4500</td>\n",
       "      <td>Heavy</td>\n",
       "      <td>2045.454545</td>\n",
       "    </tr>\n",
       "    <tr>\n",
       "      <th>20</th>\n",
       "      <td>Falcon 9</td>\n",
       "      <td>2010</td>\n",
       "      <td>2600</td>\n",
       "      <td>Medium</td>\n",
       "      <td>1181.818182</td>\n",
       "    </tr>\n",
       "    <tr>\n",
       "      <th>21</th>\n",
       "      <td>Falcon Heavy</td>\n",
       "      <td>2018</td>\n",
       "      <td>1500</td>\n",
       "      <td>Heavy</td>\n",
       "      <td>681.818182</td>\n",
       "    </tr>\n",
       "  </tbody>\n",
       "</table>\n",
       "<p>61 rows × 5 columns</p>\n",
       "</div>"
      ],
      "text/plain": [
       "           Entity  Year  cost_per_kg launch_class   cost_per_lb\n",
       "11        Delta E  1965       177900       Medium  80863.636364\n",
       "46          Scout  1961       118500        Small  53863.636364\n",
       "37     Minotaur I  2000        73100        Small  33227.272727\n",
       "51  Space Shuttle  1981        65400        Heavy  29727.272727\n",
       "41     Pegasus XL  1996        50600        Small  23000.000000\n",
       "..            ...   ...          ...          ...           ...\n",
       "45       Saturn V  1967         5400        Heavy   2454.545455\n",
       "59        Zenit 2  1985         5100       Medium   2318.181818\n",
       "0          Angara  2014         4500        Heavy   2045.454545\n",
       "20       Falcon 9  2010         2600       Medium   1181.818182\n",
       "21   Falcon Heavy  2018         1500        Heavy    681.818182\n",
       "\n",
       "[61 rows x 5 columns]"
      ]
     },
     "execution_count": 76,
     "metadata": {},
     "output_type": "execute_result"
    }
   ],
   "source": [
    "# TODO: How do we sort to see what mission cost the most (per weight)? The least?\n",
    "df_new.sort_values(by=['cost_per_kg'], ascending=False)"
   ]
  },
  {
   "cell_type": "code",
   "execution_count": 77,
   "id": "fd05731c",
   "metadata": {},
   "outputs": [
    {
     "data": {
      "text/html": [
       "<div>\n",
       "<style scoped>\n",
       "    .dataframe tbody tr th:only-of-type {\n",
       "        vertical-align: middle;\n",
       "    }\n",
       "\n",
       "    .dataframe tbody tr th {\n",
       "        vertical-align: top;\n",
       "    }\n",
       "\n",
       "    .dataframe thead th {\n",
       "        text-align: right;\n",
       "    }\n",
       "</style>\n",
       "<table border=\"1\" class=\"dataframe\">\n",
       "  <thead>\n",
       "    <tr style=\"text-align: right;\">\n",
       "      <th></th>\n",
       "      <th>Entity</th>\n",
       "      <th>Year</th>\n",
       "      <th>cost_per_kg</th>\n",
       "      <th>launch_class</th>\n",
       "      <th>cost_per_lb</th>\n",
       "    </tr>\n",
       "  </thead>\n",
       "  <tbody>\n",
       "    <tr>\n",
       "      <th>0</th>\n",
       "      <td>Angara</td>\n",
       "      <td>2014</td>\n",
       "      <td>4500</td>\n",
       "      <td>Heavy</td>\n",
       "      <td>2045.454545</td>\n",
       "    </tr>\n",
       "    <tr>\n",
       "      <th>1</th>\n",
       "      <td>Antares</td>\n",
       "      <td>2013</td>\n",
       "      <td>13600</td>\n",
       "      <td>Medium</td>\n",
       "      <td>6181.818182</td>\n",
       "    </tr>\n",
       "    <tr>\n",
       "      <th>2</th>\n",
       "      <td>Ariane 44</td>\n",
       "      <td>1988</td>\n",
       "      <td>18300</td>\n",
       "      <td>Medium</td>\n",
       "      <td>8318.181818</td>\n",
       "    </tr>\n",
       "    <tr>\n",
       "      <th>3</th>\n",
       "      <td>Ariane 5G</td>\n",
       "      <td>1997</td>\n",
       "      <td>10200</td>\n",
       "      <td>Heavy</td>\n",
       "      <td>4636.363636</td>\n",
       "    </tr>\n",
       "    <tr>\n",
       "      <th>4</th>\n",
       "      <td>Athena 1</td>\n",
       "      <td>1997</td>\n",
       "      <td>19200</td>\n",
       "      <td>Small</td>\n",
       "      <td>8727.272727</td>\n",
       "    </tr>\n",
       "    <tr>\n",
       "      <th>...</th>\n",
       "      <td>...</td>\n",
       "      <td>...</td>\n",
       "      <td>...</td>\n",
       "      <td>...</td>\n",
       "      <td>...</td>\n",
       "    </tr>\n",
       "    <tr>\n",
       "      <th>56</th>\n",
       "      <td>Titan III+</td>\n",
       "      <td>1965</td>\n",
       "      <td>21000</td>\n",
       "      <td>Medium</td>\n",
       "      <td>9545.454545</td>\n",
       "    </tr>\n",
       "    <tr>\n",
       "      <th>57</th>\n",
       "      <td>Titan IV</td>\n",
       "      <td>1989</td>\n",
       "      <td>30800</td>\n",
       "      <td>Heavy</td>\n",
       "      <td>14000.000000</td>\n",
       "    </tr>\n",
       "    <tr>\n",
       "      <th>58</th>\n",
       "      <td>Vega</td>\n",
       "      <td>2012</td>\n",
       "      <td>20000</td>\n",
       "      <td>Small</td>\n",
       "      <td>9090.909091</td>\n",
       "    </tr>\n",
       "    <tr>\n",
       "      <th>59</th>\n",
       "      <td>Zenit 2</td>\n",
       "      <td>1985</td>\n",
       "      <td>5100</td>\n",
       "      <td>Medium</td>\n",
       "      <td>2318.181818</td>\n",
       "    </tr>\n",
       "    <tr>\n",
       "      <th>60</th>\n",
       "      <td>Zenit 3SL</td>\n",
       "      <td>1999</td>\n",
       "      <td>8900</td>\n",
       "      <td>Medium</td>\n",
       "      <td>4045.454545</td>\n",
       "    </tr>\n",
       "  </tbody>\n",
       "</table>\n",
       "<p>61 rows × 5 columns</p>\n",
       "</div>"
      ],
      "text/plain": [
       "        Entity  Year  cost_per_kg launch_class   cost_per_lb\n",
       "0       Angara  2014         4500        Heavy   2045.454545\n",
       "1      Antares  2013        13600       Medium   6181.818182\n",
       "2    Ariane 44  1988        18300       Medium   8318.181818\n",
       "3    Ariane 5G  1997        10200        Heavy   4636.363636\n",
       "4     Athena 1  1997        19200        Small   8727.272727\n",
       "..         ...   ...          ...          ...           ...\n",
       "56  Titan III+  1965        21000       Medium   9545.454545\n",
       "57    Titan IV  1989        30800        Heavy  14000.000000\n",
       "58        Vega  2012        20000        Small   9090.909091\n",
       "59     Zenit 2  1985         5100       Medium   2318.181818\n",
       "60   Zenit 3SL  1999         8900       Medium   4045.454545\n",
       "\n",
       "[61 rows x 5 columns]"
      ]
     },
     "execution_count": 77,
     "metadata": {},
     "output_type": "execute_result"
    }
   ],
   "source": [
    "# Notice that this doesn't change the dataframe...\n",
    "df_new"
   ]
  },
  {
   "cell_type": "code",
   "execution_count": 78,
   "id": "18fc3ba5",
   "metadata": {},
   "outputs": [],
   "source": [
    "# We can save the sorted dataframe as itself, or as a new one\n",
    "df_new = df_new.sort_values(by=['cost_per_kg'], ascending=False)"
   ]
  },
  {
   "cell_type": "code",
   "execution_count": 79,
   "id": "e17dc8a5",
   "metadata": {},
   "outputs": [
    {
     "data": {
      "text/html": [
       "<div>\n",
       "<style scoped>\n",
       "    .dataframe tbody tr th:only-of-type {\n",
       "        vertical-align: middle;\n",
       "    }\n",
       "\n",
       "    .dataframe tbody tr th {\n",
       "        vertical-align: top;\n",
       "    }\n",
       "\n",
       "    .dataframe thead th {\n",
       "        text-align: right;\n",
       "    }\n",
       "</style>\n",
       "<table border=\"1\" class=\"dataframe\">\n",
       "  <thead>\n",
       "    <tr style=\"text-align: right;\">\n",
       "      <th></th>\n",
       "      <th>Entity</th>\n",
       "      <th>Year</th>\n",
       "      <th>cost_per_kg</th>\n",
       "      <th>launch_class</th>\n",
       "      <th>cost_per_lb</th>\n",
       "    </tr>\n",
       "  </thead>\n",
       "  <tbody>\n",
       "    <tr>\n",
       "      <th>11</th>\n",
       "      <td>Delta E</td>\n",
       "      <td>1965</td>\n",
       "      <td>177900</td>\n",
       "      <td>Medium</td>\n",
       "      <td>80863.636364</td>\n",
       "    </tr>\n",
       "    <tr>\n",
       "      <th>46</th>\n",
       "      <td>Scout</td>\n",
       "      <td>1961</td>\n",
       "      <td>118500</td>\n",
       "      <td>Small</td>\n",
       "      <td>53863.636364</td>\n",
       "    </tr>\n",
       "    <tr>\n",
       "      <th>37</th>\n",
       "      <td>Minotaur I</td>\n",
       "      <td>2000</td>\n",
       "      <td>73100</td>\n",
       "      <td>Small</td>\n",
       "      <td>33227.272727</td>\n",
       "    </tr>\n",
       "    <tr>\n",
       "      <th>51</th>\n",
       "      <td>Space Shuttle</td>\n",
       "      <td>1981</td>\n",
       "      <td>65400</td>\n",
       "      <td>Heavy</td>\n",
       "      <td>29727.272727</td>\n",
       "    </tr>\n",
       "    <tr>\n",
       "      <th>41</th>\n",
       "      <td>Pegasus XL</td>\n",
       "      <td>1996</td>\n",
       "      <td>50600</td>\n",
       "      <td>Small</td>\n",
       "      <td>23000.000000</td>\n",
       "    </tr>\n",
       "    <tr>\n",
       "      <th>...</th>\n",
       "      <td>...</td>\n",
       "      <td>...</td>\n",
       "      <td>...</td>\n",
       "      <td>...</td>\n",
       "      <td>...</td>\n",
       "    </tr>\n",
       "    <tr>\n",
       "      <th>45</th>\n",
       "      <td>Saturn V</td>\n",
       "      <td>1967</td>\n",
       "      <td>5400</td>\n",
       "      <td>Heavy</td>\n",
       "      <td>2454.545455</td>\n",
       "    </tr>\n",
       "    <tr>\n",
       "      <th>59</th>\n",
       "      <td>Zenit 2</td>\n",
       "      <td>1985</td>\n",
       "      <td>5100</td>\n",
       "      <td>Medium</td>\n",
       "      <td>2318.181818</td>\n",
       "    </tr>\n",
       "    <tr>\n",
       "      <th>0</th>\n",
       "      <td>Angara</td>\n",
       "      <td>2014</td>\n",
       "      <td>4500</td>\n",
       "      <td>Heavy</td>\n",
       "      <td>2045.454545</td>\n",
       "    </tr>\n",
       "    <tr>\n",
       "      <th>20</th>\n",
       "      <td>Falcon 9</td>\n",
       "      <td>2010</td>\n",
       "      <td>2600</td>\n",
       "      <td>Medium</td>\n",
       "      <td>1181.818182</td>\n",
       "    </tr>\n",
       "    <tr>\n",
       "      <th>21</th>\n",
       "      <td>Falcon Heavy</td>\n",
       "      <td>2018</td>\n",
       "      <td>1500</td>\n",
       "      <td>Heavy</td>\n",
       "      <td>681.818182</td>\n",
       "    </tr>\n",
       "  </tbody>\n",
       "</table>\n",
       "<p>61 rows × 5 columns</p>\n",
       "</div>"
      ],
      "text/plain": [
       "           Entity  Year  cost_per_kg launch_class   cost_per_lb\n",
       "11        Delta E  1965       177900       Medium  80863.636364\n",
       "46          Scout  1961       118500        Small  53863.636364\n",
       "37     Minotaur I  2000        73100        Small  33227.272727\n",
       "51  Space Shuttle  1981        65400        Heavy  29727.272727\n",
       "41     Pegasus XL  1996        50600        Small  23000.000000\n",
       "..            ...   ...          ...          ...           ...\n",
       "45       Saturn V  1967         5400        Heavy   2454.545455\n",
       "59        Zenit 2  1985         5100       Medium   2318.181818\n",
       "0          Angara  2014         4500        Heavy   2045.454545\n",
       "20       Falcon 9  2010         2600       Medium   1181.818182\n",
       "21   Falcon Heavy  2018         1500        Heavy    681.818182\n",
       "\n",
       "[61 rows x 5 columns]"
      ]
     },
     "execution_count": 79,
     "metadata": {},
     "output_type": "execute_result"
    }
   ],
   "source": [
    "df_new"
   ]
  },
  {
   "cell_type": "markdown",
   "id": "b24e5c4a",
   "metadata": {},
   "source": [
    "### CHALLENGE (if you finish early): \n",
    "Go to [Our World in Data](https://ourworldindata.org/) and find a data set that interests you.\n",
    "\n",
    "Download the CSV file.\n",
    "\n",
    "Load it into this notebook.\n",
    "\n",
    "(1) What do you notice about how the data is organized?\n",
    "\n",
    "(2) Can you sort the data in an interesting day?\n",
    "\n",
    "(3) Can you calculate a new column that is useful?"
   ]
  },
  {
   "cell_type": "code",
   "execution_count": 80,
   "id": "ec8b573f",
   "metadata": {},
   "outputs": [],
   "source": [
    "# TODO: Your code here...."
   ]
  },
  {
   "cell_type": "code",
   "execution_count": null,
   "id": "b7898d7a",
   "metadata": {},
   "outputs": [],
   "source": []
  }
 ],
 "metadata": {
  "kernelspec": {
   "display_name": "Python 3 (ipykernel)",
   "language": "python",
   "name": "python3"
  },
  "language_info": {
   "codemirror_mode": {
    "name": "ipython",
    "version": 3
   },
   "file_extension": ".py",
   "mimetype": "text/x-python",
   "name": "python",
   "nbconvert_exporter": "python",
   "pygments_lexer": "ipython3",
   "version": "3.9.16"
  }
 },
 "nbformat": 4,
 "nbformat_minor": 5
}
