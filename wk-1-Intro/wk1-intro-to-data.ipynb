{
 "cells": [
  {
   "cell_type": "markdown",
   "id": "0c1c7eab",
   "metadata": {},
   "source": [
    "## Part 1: A quick tour of Jupyter notebooks"
   ]
  },
  {
   "cell_type": "code",
   "execution_count": null,
   "id": "5be81add",
   "metadata": {},
   "outputs": [],
   "source": [
    "# Basic \"unit\" is a cell... how do we add a new cell?"
   ]
  },
  {
   "cell_type": "markdown",
   "id": "b45c6668",
   "metadata": {},
   "source": [
    "Cells can be code or text (markdown)...\n",
    "How do you switch between the two?"
   ]
  },
  {
   "cell_type": "code",
   "execution_count": null,
   "id": "00dc4814",
   "metadata": {},
   "outputs": [],
   "source": [
    "# You can also MOVE cells around... or insert cells anywhere\n",
    "# And you can split cells...or merge them\n",
    "\n",
    "#TODO: \n",
    "# Add a cell *below* this one\n",
    "# Now move that cell to very TOP of this notebook\n",
    "# Now merge that cell with the cell below it...what happens?\n",
    "# Finally... split this cell into two cells, right above the \"TODO\""
   ]
  },
  {
   "cell_type": "code",
   "execution_count": null,
   "id": "7e440070",
   "metadata": {},
   "outputs": [],
   "source": [
    "# How do we execute a line of code?\n",
    "\n",
    "# TODO: Write some code below to compute the value of 3+3\n",
    "# run this cell and see what happens"
   ]
  },
  {
   "cell_type": "code",
   "execution_count": null,
   "id": "346bf16d",
   "metadata": {},
   "outputs": [],
   "source": [
    "# We can store variables\n",
    "\n",
    "# TODO: Make a variable callwhated myDog and assign it the value \"Laika\""
   ]
  },
  {
   "cell_type": "code",
   "execution_count": null,
   "id": "3cc884bd",
   "metadata": {},
   "outputs": [],
   "source": [
    "# We can view the variable directly, or print it out"
   ]
  },
  {
   "cell_type": "code",
   "execution_count": null,
   "id": "5cd227c9",
   "metadata": {},
   "outputs": [],
   "source": [
    "# We can also write functions and execute them\n",
    "\n",
    "# TODO: Write a function that accepts a string and then does something, anything, with it\n"
   ]
  },
  {
   "cell_type": "code",
   "execution_count": null,
   "id": "cbd41218",
   "metadata": {},
   "outputs": [],
   "source": [
    "# TODO: Write code that calls the function you just wrote and passes in the variable myDog\n"
   ]
  },
  {
   "cell_type": "markdown",
   "id": "fa2c9cda",
   "metadata": {},
   "source": [
    "#### Some Jupyter tips:\n",
    "- Order matters!\n",
    "- You can execute a single cell, or run them all... (let's demo this)\n",
    "- It can all get confusing... if you need a reset, you can always restart your kernel. (Kernel refers the environment your computer is using to execute the Python code.)\n",
    "\n",
    "And if you love keyboard shortcuts, you might want to check out [this list of Jupyter shortcuts](https://towardsdatascience.com/jypyter-notebook-shortcuts-bf0101a98330).\n",
    "\n",
    "For more, you can always check out the [Jupyter Notebook Documentation](https://jupyter-notebook.readthedocs.io/en/latest/)."
   ]
  },
  {
   "cell_type": "markdown",
   "id": "2f425eec",
   "metadata": {},
   "source": [
    "## Part 2: Python review (strings, lists, dictionaries)\n",
    "\n",
    "Let's review some of the Python data structures we'll be using most often in this class."
   ]
  },
  {
   "cell_type": "code",
   "execution_count": 2,
   "id": "6ccc2a68",
   "metadata": {},
   "outputs": [],
   "source": [
    "# Integers and strings\n",
    "myInteger = 3\n",
    "myString = \"3\""
   ]
  },
  {
   "cell_type": "code",
   "execution_count": 3,
   "id": "8e81e7db",
   "metadata": {},
   "outputs": [
    {
     "ename": "TypeError",
     "evalue": "unsupported operand type(s) for +: 'int' and 'str'",
     "output_type": "error",
     "traceback": [
      "\u001b[0;31m---------------------------------------------------------------------------\u001b[0m",
      "\u001b[0;31mTypeError\u001b[0m                                 Traceback (most recent call last)",
      "Cell \u001b[0;32mIn[3], line 2\u001b[0m\n\u001b[1;32m      1\u001b[0m \u001b[38;5;66;03m# before you execute this... what do you think the result will be?\u001b[39;00m\n\u001b[0;32m----> 2\u001b[0m \u001b[43mmyInteger\u001b[49m\u001b[43m \u001b[49m\u001b[38;5;241;43m+\u001b[39;49m\u001b[43m \u001b[49m\u001b[43mmyString\u001b[49m\n",
      "\u001b[0;31mTypeError\u001b[0m: unsupported operand type(s) for +: 'int' and 'str'"
     ]
    }
   ],
   "source": [
    "# before you execute this... what do you think the result will be?\n",
    "myInteger + myString"
   ]
  },
  {
   "cell_type": "code",
   "execution_count": 5,
   "id": "2ea59140",
   "metadata": {},
   "outputs": [
    {
     "data": {
      "text/plain": [
       "str"
      ]
     },
     "execution_count": 5,
     "metadata": {},
     "output_type": "execute_result"
    }
   ],
   "source": [
    "# How do we find the TYPE of a variable (or any Python object)?\n",
    "type(myString)"
   ]
  },
  {
   "cell_type": "code",
   "execution_count": null,
   "id": "935d446c",
   "metadata": {},
   "outputs": [],
   "source": [
    "# TODO: Make a variable called myName and assign it to your name"
   ]
  },
  {
   "cell_type": "code",
   "execution_count": null,
   "id": "392a15e2",
   "metadata": {},
   "outputs": [],
   "source": [
    "# TODO: Print out just the SECOND character of your name\n",
    "# Next, print out the first two characters of your name\n",
    "# Then, print out just the last two characters of your name"
   ]
  },
  {
   "cell_type": "code",
   "execution_count": 11,
   "id": "f03ad777",
   "metadata": {},
   "outputs": [],
   "source": [
    "# Lists\n",
    "myList = [\"Anderson\", \"Jewett\", \"Lyman\", \"Prentiss\", \"Stanton\"]"
   ]
  },
  {
   "cell_type": "code",
   "execution_count": null,
   "id": "a1711f18",
   "metadata": {},
   "outputs": [],
   "source": [
    "# TODO: Print out the third item in the list\n",
    "# Then, print out the number of items in this list\n",
    "# Then, iterate through all of the items in the list and print out the first character"
   ]
  },
  {
   "cell_type": "code",
   "execution_count": 24,
   "id": "96756e3d",
   "metadata": {},
   "outputs": [],
   "source": [
    "# Dictionaries\n",
    "# remember, dictionaries have key / value pairs\n",
    "apple = {\"name\": \"apple\", \"status\": \"ripe\", \"color\":\"red\", \"diameter\": 3}\n",
    "avocado = {\"name\": \"avocado\", \"status\": \"underripe\", \"color\":\"brown\", \"diameter\":2.5 }\n",
    "peach = {\"name\":\"peach\", \"status\":\"overripe\", \"color\":\"orange\", \"diameter\": 3.5}\n",
    "\n",
    "# In the dictionaries above, what are the keys? What are the values?"
   ]
  },
  {
   "cell_type": "code",
   "execution_count": null,
   "id": "032a116b",
   "metadata": {},
   "outputs": [],
   "source": [
    "# TODO: Print out the apple's status\n",
    "# Next, print out the peach's color\n",
    "# Next, print out ALL of avocado's keys\n",
    "# Finally, print out ALL of the avocado's values"
   ]
  },
  {
   "cell_type": "code",
   "execution_count": 15,
   "id": "f2ad6fff",
   "metadata": {},
   "outputs": [],
   "source": [
    "# We can combine lists and dictionaries\n",
    "# Now, make a new LIST that has ALL the fruits in it\n",
    "# Finally, iterate through the fruits and print out each one's name and status"
   ]
  },
  {
   "cell_type": "markdown",
   "id": "6e538b4b",
   "metadata": {},
   "source": [
    "## Part 3: Intro to pandas...let's get some data!"
   ]
  },
  {
   "cell_type": "code",
   "execution_count": null,
   "id": "e1c10be3",
   "metadata": {},
   "outputs": [],
   "source": [
    "# And we can import packages\n",
    "# This can be packages we write ourselves, i.e. a .py file\n",
    "# Or it can be packages we have installed on our computer (a bunch came with Anaconda)\n",
    "# We'll be using numpy and pandas to start\n",
    "\n",
    "# TODO: Write the code you need to import Numpy and Pandas\n",
    "# Note: np and pd are shorthand, and they are conventions (you could call them whatever you want)\n",
    "import numpy as np\n",
    "import pandas as pd\n"
   ]
  },
  {
   "cell_type": "markdown",
   "id": "62a4ca12",
   "metadata": {},
   "source": [
    "Note: I'll only be showing you some of the things pandas can do -- to explore, **read the docs**!\n",
    "\n",
    "Keep the [documentation](https://pandas.pydata.org/docs/index.html) handy. And remember, usually there are many, many ways to accomplish something.\n"
   ]
  },
  {
   "cell_type": "markdown",
   "id": "1d2b8cf2",
   "metadata": {},
   "source": [
    "### Let's import some data!\n",
    "We'll be using data about the **cost of launching stuff into space** over time. It comes from [Our World in Data](https://ourworldindata.org/grapher/cost-space-launches-low-earth-orbit).\n",
    "\n",
    "Go check out this link (always always seek out the source!). What do you notice?"
   ]
  },
  {
   "cell_type": "code",
   "execution_count": null,
   "id": "0d4a526f",
   "metadata": {},
   "outputs": [],
   "source": [
    "# Let's load in the data, which is in the form of a CSV file\n",
    "\n",
    "# TODO: Write a line of code to import \"cost-space-lauches.csv\" and save it as a DataFrame called df_launch\n",
    "# Note: Where is your CSV file, and do you have the correct file path?\n"
   ]
  },
  {
   "cell_type": "code",
   "execution_count": null,
   "id": "a060a92d",
   "metadata": {},
   "outputs": [],
   "source": [
    "# Now let's examine this DataFrame...\n",
    "# What do you notice?\n"
   ]
  },
  {
   "cell_type": "code",
   "execution_count": null,
   "id": "ac3b050e",
   "metadata": {},
   "outputs": [],
   "source": [
    "# How many columns? What are they?\n",
    "# How many rows? What does each row represent?\n",
    "\n",
    "# TODO: Write a line of code that displays the header\n",
    "# TODO: Write a line of code that displays the first 10 rows"
   ]
  },
  {
   "cell_type": "code",
   "execution_count": null,
   "id": "54a20f5a",
   "metadata": {},
   "outputs": [],
   "source": []
  },
  {
   "cell_type": "code",
   "execution_count": null,
   "id": "871b9914",
   "metadata": {},
   "outputs": [],
   "source": [
    "# Let's get a summary\n"
   ]
  },
  {
   "cell_type": "code",
   "execution_count": null,
   "id": "8469182c",
   "metadata": {},
   "outputs": [],
   "source": [
    "# How do we select a single column?\n"
   ]
  },
  {
   "cell_type": "code",
   "execution_count": null,
   "id": "a61b878b",
   "metadata": {},
   "outputs": [],
   "source": [
    "# How do we select a single row?\n"
   ]
  },
  {
   "cell_type": "code",
   "execution_count": null,
   "id": "85ace8e1",
   "metadata": {},
   "outputs": [],
   "source": [
    "# And how do we select value within the Year column?\n"
   ]
  },
  {
   "cell_type": "code",
   "execution_count": null,
   "id": "00b7a3c9",
   "metadata": {},
   "outputs": [],
   "source": [
    "# TODO: Write a line of code to get the cost_per_kg colum\n"
   ]
  },
  {
   "cell_type": "code",
   "execution_count": null,
   "id": "75df964e",
   "metadata": {},
   "outputs": [],
   "source": [
    "# TODO: Write a line of code to get the 5th row\n"
   ]
  },
  {
   "cell_type": "code",
   "execution_count": null,
   "id": "90b42663",
   "metadata": {
    "scrolled": true
   },
   "outputs": [],
   "source": [
    "# TODO: Write some code to get the launch_class of the 3rd row\n"
   ]
  },
  {
   "cell_type": "code",
   "execution_count": null,
   "id": "10f705f7",
   "metadata": {},
   "outputs": [],
   "source": [
    "# Now, what TYPES are the data contained in each column?\n",
    "# Type of the cost_per_kg column"
   ]
  },
  {
   "cell_type": "code",
   "execution_count": null,
   "id": "f2221c77",
   "metadata": {},
   "outputs": [],
   "source": [
    "# Type of the 5th row"
   ]
  },
  {
   "cell_type": "code",
   "execution_count": null,
   "id": "c56b3ec8",
   "metadata": {},
   "outputs": [],
   "source": [
    "# Type of the launch_class of the 3rd row"
   ]
  },
  {
   "cell_type": "markdown",
   "id": "87063fdc",
   "metadata": {},
   "source": [
    "[Series](https://pandas.pydata.org/docs/reference/api/pandas.Series.html) are 1-dimensional arrays (basically lists).\n",
    "\n",
    "\n",
    "Individual values (cells) can be any data type (strings, integers, floating points, even lists)."
   ]
  },
  {
   "cell_type": "code",
   "execution_count": null,
   "id": "521b4cb9",
   "metadata": {},
   "outputs": [],
   "source": [
    "# TODO: What (Python) types are the values in the other columns? \n",
    "# We can iterate over the columns in a dataframe!\n"
   ]
  },
  {
   "cell_type": "code",
   "execution_count": null,
   "id": "56d659ce",
   "metadata": {},
   "outputs": [],
   "source": [
    "# There's also an easy-peasy built in way with pandas using .dtypes...\n"
   ]
  },
  {
   "cell_type": "code",
   "execution_count": null,
   "id": "481a51af",
   "metadata": {},
   "outputs": [],
   "source": [
    "# Are you loving pandas yet??\n",
    "# Another built in trick pandas has is .info()... let's try it"
   ]
  },
  {
   "cell_type": "code",
   "execution_count": null,
   "id": "f1bd533f",
   "metadata": {},
   "outputs": [],
   "source": [
    "# What's going on with that \"Code\" column?\n",
    "# It has NaN (Not a Number) as all its values -- this means missing data!"
   ]
  },
  {
   "cell_type": "code",
   "execution_count": null,
   "id": "574d62cb",
   "metadata": {},
   "outputs": [],
   "source": [
    "# TODO: Make a new data frame that just has the columns we want (no Code column)\n",
    "# We can select a specific subset of columns in a dataframe using a list of column names\n"
   ]
  },
  {
   "cell_type": "code",
   "execution_count": null,
   "id": "747b09fe",
   "metadata": {},
   "outputs": [],
   "source": [
    "# How do we count the values of the launch class?\n"
   ]
  },
  {
   "cell_type": "markdown",
   "id": "91ed6eec",
   "metadata": {},
   "source": [
    "We can also do math on values in our DataFrames!\n",
    "\n",
    "How would we convert the cost per kilograph to cost per pound?"
   ]
  },
  {
   "cell_type": "code",
   "execution_count": null,
   "id": "7e8d5196",
   "metadata": {},
   "outputs": [],
   "source": [
    "# TODO: Make a new column that contains the cost per pounds in it\n",
    "# Remember, 1 kg = 2.2 pounds (lbs)"
   ]
  },
  {
   "cell_type": "code",
   "execution_count": null,
   "id": "7eb71adf",
   "metadata": {},
   "outputs": [],
   "source": [
    "# TODO: How do we sort to see what missions cost the most (per weight)? The least?\n"
   ]
  },
  {
   "cell_type": "code",
   "execution_count": null,
   "id": "fd05731c",
   "metadata": {},
   "outputs": [],
   "source": [
    "# Notice that this doesn't change the dataframe...\n"
   ]
  },
  {
   "cell_type": "code",
   "execution_count": null,
   "id": "18fc3ba5",
   "metadata": {},
   "outputs": [],
   "source": [
    "# We can save the sorted dataframe as itself, or as a new one\n"
   ]
  },
  {
   "cell_type": "markdown",
   "id": "b24e5c4a",
   "metadata": {},
   "source": [
    "## Part 3: CHALLENGE (if you finish early): \n",
    "Go to [Our World in Data](https://ourworldindata.org/) and find a data set that interests you.\n",
    "\n",
    "Download the CSV file.\n",
    "\n",
    "Load it into this notebook.\n",
    "\n",
    "(1) What do you notice about how the data is organized?\n",
    "\n",
    "(2) Can you sort the data in an interesting day?\n",
    "\n",
    "(3) Can you calculate a new column that is useful?"
   ]
  },
  {
   "cell_type": "code",
   "execution_count": null,
   "id": "ec8b573f",
   "metadata": {},
   "outputs": [],
   "source": [
    "# TODO: Your code here...."
   ]
  },
  {
   "cell_type": "markdown",
   "id": "95ae5e07",
   "metadata": {},
   "source": [
    "### At the end of class, make sure to upload this .ipynb file to Canvas and submit the check in!"
   ]
  }
 ],
 "metadata": {
  "kernelspec": {
   "display_name": "Python 3 (ipykernel)",
   "language": "python",
   "name": "python3"
  },
  "language_info": {
   "codemirror_mode": {
    "name": "ipython",
    "version": 3
   },
   "file_extension": ".py",
   "mimetype": "text/x-python",
   "name": "python",
   "nbconvert_exporter": "python",
   "pygments_lexer": "ipython3",
   "version": "3.9.16"
  }
 },
 "nbformat": 4,
 "nbformat_minor": 5
}
