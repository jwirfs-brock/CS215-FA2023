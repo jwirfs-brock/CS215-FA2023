{
 "cells": [
  {
   "cell_type": "markdown",
   "id": "2fa7e8fb",
   "metadata": {},
   "source": [
    "# In-Class Activity: Linear Motion\n",
    "\n",
    "In this activity, we'll be using sensory data you collect on your phone with either PhyPhox or Physics Toolbox. With the linear accelerometer, we'll measure the motion of our phone, and then use it to calculate the displacement (distance) of an object."
   ]
  },
  {
   "cell_type": "code",
   "execution_count": 30,
   "id": "59c91b0e",
   "metadata": {},
   "outputs": [],
   "source": [
    "import pandas as pd\n",
    "import numpy as np\n",
    "from matplotlib import pyplot as plt"
   ]
  },
  {
   "cell_type": "code",
   "execution_count": 72,
   "id": "9c6527a7",
   "metadata": {},
   "outputs": [],
   "source": [
    "# Import the csv file as a data frame\n",
    "\n",
    "# NOTE: You can either use the data file you downloaded from Canvas\n",
    "# Or, after Prof. W-B uploads the demo file, you can download\n",
    "# that from Google Drive\n",
    "# OR even better...use your own data file!"
   ]
  },
  {
   "cell_type": "code",
   "execution_count": 4,
   "id": "7d5950cf",
   "metadata": {},
   "outputs": [],
   "source": [
    "# YOUR CODE HERE"
   ]
  },
  {
   "cell_type": "code",
   "execution_count": 74,
   "id": "78cc0ab8",
   "metadata": {},
   "outputs": [],
   "source": [
    "# Examine the data frame -- how many rows and columns?\n",
    "# What does each column contain?\n",
    "\n",
    "# Use .describe to examine the columns"
   ]
  },
  {
   "cell_type": "code",
   "execution_count": 18,
   "id": "80316f3d",
   "metadata": {},
   "outputs": [],
   "source": [
    "# YOUR CODE HERE"
   ]
  },
  {
   "cell_type": "code",
   "execution_count": 77,
   "id": "30cfd397",
   "metadata": {},
   "outputs": [],
   "source": [
    "# Let's make some plots of the data"
   ]
  },
  {
   "cell_type": "code",
   "execution_count": 78,
   "id": "7cf4e7bd",
   "metadata": {},
   "outputs": [],
   "source": [
    "# Let's make some plots of the data\n",
    "\n",
    "# We can use .plot to show all of the columns\n",
    "\n",
    "# What is happening with each one?"
   ]
  },
  {
   "cell_type": "code",
   "execution_count": 19,
   "id": "f3503fcd",
   "metadata": {},
   "outputs": [],
   "source": [
    "# YOUR CODE HERE"
   ]
  },
  {
   "cell_type": "code",
   "execution_count": 80,
   "id": "d52cbcae",
   "metadata": {},
   "outputs": [],
   "source": [
    "# Or we can look at individual columns...\n",
    "# First let's look at the z acceleration"
   ]
  },
  {
   "cell_type": "code",
   "execution_count": 20,
   "id": "43a225a8",
   "metadata": {},
   "outputs": [],
   "source": [
    "# YOUR CODE HERE"
   ]
  },
  {
   "cell_type": "code",
   "execution_count": 87,
   "id": "e90137f6",
   "metadata": {},
   "outputs": [],
   "source": [
    "# How many points of data before it starts to move?"
   ]
  },
  {
   "cell_type": "code",
   "execution_count": null,
   "id": "74f6a3cf",
   "metadata": {},
   "outputs": [],
   "source": [
    "# Notice how it *seems* to start to 0... but it's a good practice to calibrate our sensor\n",
    "# We can do this by calculating the baseline and subtracting it out\n",
    "\n",
    "# First we calculate the z baseline by averaging the first 100 rows of data\n",
    "# Remember how to select rows? We use .iloc"
   ]
  },
  {
   "cell_type": "code",
   "execution_count": 7,
   "id": "c39dc9ec",
   "metadata": {},
   "outputs": [],
   "source": [
    "# YOUR CODE HERE"
   ]
  },
  {
   "cell_type": "code",
   "execution_count": null,
   "id": "a09f6621",
   "metadata": {},
   "outputs": [],
   "source": [
    "# Now let's make a new column where we substract out the baseline"
   ]
  },
  {
   "cell_type": "code",
   "execution_count": 21,
   "id": "adb29a59",
   "metadata": {},
   "outputs": [],
   "source": [
    "# YOUR CODE HERE"
   ]
  },
  {
   "cell_type": "code",
   "execution_count": 88,
   "id": "75576d7e",
   "metadata": {},
   "outputs": [],
   "source": [
    "# We are going to do numerical integration (remember physics?) to figure out\n",
    "\n",
    "# a) the velocity\n",
    "# b) the linear displacement\n",
    "\n",
    "# To do that, we need to know the time interval of each row, dt (change in time between each row)"
   ]
  },
  {
   "cell_type": "code",
   "execution_count": 89,
   "id": "ca1804c1",
   "metadata": {},
   "outputs": [],
   "source": [
    "# How do we figure out the time interval (dt)?"
   ]
  },
  {
   "cell_type": "code",
   "execution_count": 22,
   "id": "c7074de8",
   "metadata": {},
   "outputs": [],
   "source": [
    "# First, figure out the LAST time stamp in our data set\n"
   ]
  },
  {
   "cell_type": "code",
   "execution_count": null,
   "id": "2ba0a926",
   "metadata": {},
   "outputs": [],
   "source": [
    "# YOUR CODE HERE"
   ]
  },
  {
   "cell_type": "code",
   "execution_count": 91,
   "id": "4115025c",
   "metadata": {},
   "outputs": [],
   "source": [
    "# Then, we can divide that last time step (elapsed time) by the number of rows \n",
    "# This tells us how big each time step is\n",
    "# We are going to use .shape, which tell us the size of a data frame or a series\n",
    "# df.shape[0] will tell us how many rows "
   ]
  },
  {
   "cell_type": "code",
   "execution_count": 23,
   "id": "fa510af3",
   "metadata": {},
   "outputs": [],
   "source": [
    "# Calculate dt\n",
    "\n",
    "# YOUR CODE HERE\n",
    "\n"
   ]
  },
  {
   "cell_type": "code",
   "execution_count": 93,
   "id": "5e219dcb",
   "metadata": {},
   "outputs": [],
   "source": [
    "# Now onto numeric intergration\n",
    "\n",
    "# We'll use .cumsum(), which tells us the cumulative sum of a column\n",
    "# https://numpy.org/doc/stable/reference/generated/numpy.cumsum.html"
   ]
  },
  {
   "cell_type": "code",
   "execution_count": 24,
   "id": "29b2a320",
   "metadata": {},
   "outputs": [],
   "source": [
    "# First, let's calculate the velocity for the z column\n",
    "# We'll add a new z velocity column, numerically integrating the z acceleration\n",
    "# We do this by multiplying the .cumsum of the z acceleration by the timestep, dt\n",
    "\n",
    "# YOUR CODE HERE\n"
   ]
  },
  {
   "cell_type": "code",
   "execution_count": 25,
   "id": "e048a65b",
   "metadata": {},
   "outputs": [],
   "source": [
    "# And let's plot it\n",
    "\n",
    "# YOUR CODE HERE"
   ]
  },
  {
   "cell_type": "code",
   "execution_count": 26,
   "id": "36096d7a",
   "metadata": {},
   "outputs": [],
   "source": [
    "# Finally, we can numerically integrate *again* to find the position!\n",
    "# Let's make a new column for the z position\n",
    "# Again, we multiply .cumsum times the timestep, dt\n",
    "\n",
    "# z position:\n",
    "\n",
    "# YOUR CODE HERE\n"
   ]
  },
  {
   "cell_type": "code",
   "execution_count": 27,
   "id": "fd44648d",
   "metadata": {},
   "outputs": [],
   "source": [
    "# And let's plot it\n",
    "\n",
    "# YOUR CODE HERE\n"
   ]
  },
  {
   "cell_type": "code",
   "execution_count": 28,
   "id": "3fbf1441",
   "metadata": {},
   "outputs": [],
   "source": [
    "# What is the final height? How would you find it?\n",
    "\n",
    "# We can average the ending value (similar to how we did the baseline)"
   ]
  },
  {
   "cell_type": "code",
   "execution_count": 29,
   "id": "79cbec4c",
   "metadata": {},
   "outputs": [],
   "source": [
    "# YOUR CODE HERE"
   ]
  },
  {
   "cell_type": "code",
   "execution_count": null,
   "id": "e28d4663",
   "metadata": {},
   "outputs": [],
   "source": [
    "# Ok, now you try it!"
   ]
  },
  {
   "cell_type": "code",
   "execution_count": 102,
   "id": "cdda9465",
   "metadata": {},
   "outputs": [],
   "source": [
    "# Challenge 1: Using what you learned in Datacamp, make your plots easier to read\n",
    "\n",
    "# Remember, we can use plt.plot() and plt.show()\n",
    "# which is slightly different syntax that what we did above\n",
    " \n",
    "\n",
    "# Add a title\n",
    "# Add an annotation for the final height\n",
    "# Change the line color and line style"
   ]
  },
  {
   "cell_type": "code",
   "execution_count": 101,
   "id": "8b5fd973",
   "metadata": {},
   "outputs": [],
   "source": [
    "# Challenge 2: Measure the height of different objects in the room"
   ]
  },
  {
   "cell_type": "code",
   "execution_count": null,
   "id": "b54c9608",
   "metadata": {},
   "outputs": [],
   "source": [
    "# Challenge 2b: Measure the height of an object in the room, but this time using either\n",
    "# the g-force meter (Physics Toolbox) or Acceleration with g (PhyPhox)\n",
    "# How is it different?"
   ]
  },
  {
   "cell_type": "code",
   "execution_count": null,
   "id": "1c515161",
   "metadata": {},
   "outputs": [],
   "source": [
    "# Challenge 3: Look at the other axes (x and y) -- what is going on with them?\n",
    "\n",
    "# Ploting the x, y, and z displacements on one plot"
   ]
  },
  {
   "cell_type": "code",
   "execution_count": null,
   "id": "bba44ba6",
   "metadata": {},
   "outputs": [],
   "source": [
    "# Challenge 4a: With your group, start working on the group project\n",
    "\n",
    "# Measure the height of one of your teammates with *all* group members' phones"
   ]
  },
  {
   "cell_type": "code",
   "execution_count": null,
   "id": "123e6236",
   "metadata": {},
   "outputs": [],
   "source": [
    "# Challenge 4b: With your group start discussing what *other* sensor you will use\n",
    "# Or what *other* experiment you can do with the linear accelerometer"
   ]
  },
  {
   "cell_type": "code",
   "execution_count": null,
   "id": "0c1ddb59",
   "metadata": {},
   "outputs": [],
   "source": []
  }
 ],
 "metadata": {
  "kernelspec": {
   "display_name": "Python 3 (ipykernel)",
   "language": "python",
   "name": "python3"
  },
  "language_info": {
   "codemirror_mode": {
    "name": "ipython",
    "version": 3
   },
   "file_extension": ".py",
   "mimetype": "text/x-python",
   "name": "python",
   "nbconvert_exporter": "python",
   "pygments_lexer": "ipython3",
   "version": "3.9.16"
  }
 },
 "nbformat": 4,
 "nbformat_minor": 5
}
