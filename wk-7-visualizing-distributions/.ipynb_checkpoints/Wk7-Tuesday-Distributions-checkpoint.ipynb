{
 "cells": [
  {
   "cell_type": "markdown",
   "id": "2afd9871",
   "metadata": {},
   "source": [
    "# Exploring & Visualizing Distribuions: Class Sizes @ Whitman\n",
    "\n",
    "This notebook uses a dataset of historic class sizes at Whitman College for a subset of majors/departments to explore and visualize distributions.\n",
    "\n",
    "_October 10, 2023\n",
    "CS / Math 215_"
   ]
  },
  {
   "cell_type": "markdown",
   "id": "59265107",
   "metadata": {},
   "source": [
    "## Part 1: Exploring the data"
   ]
  },
  {
   "cell_type": "code",
   "execution_count": 1,
   "id": "23b04028",
   "metadata": {},
   "outputs": [],
   "source": [
    "# import the packages we've been using all semester long\n",
    "import pandas as pd\n",
    "import numpy as np\n",
    "import matplotlib.pyplot as plt"
   ]
  },
  {
   "cell_type": "code",
   "execution_count": 2,
   "id": "d6aabfa4",
   "metadata": {},
   "outputs": [],
   "source": [
    "# First, import the data file as a data frame\n",
    "df_courses = pd.read_excel(\"whitman-course-sizes-2000-2023.xlsx\")"
   ]
  },
  {
   "cell_type": "markdown",
   "id": "315f8a31",
   "metadata": {},
   "source": [
    "### Your task:\n",
    "\n",
    "Examine the dataset. Ask yourself: What does each row represent? Then, figure out: "
   ]
  },
  {
   "cell_type": "code",
   "execution_count": 3,
   "id": "58237b7e",
   "metadata": {},
   "outputs": [],
   "source": [
    "# How many different majors are there in this data set and which are they?\n",
    "\n",
    "# YOUR CODE HERE"
   ]
  },
  {
   "cell_type": "code",
   "execution_count": 4,
   "id": "400a89c1",
   "metadata": {},
   "outputs": [],
   "source": [
    "# What time period does this data frame cover?\n",
    "\n",
    "# YOUR CODE HERE"
   ]
  },
  {
   "cell_type": "code",
   "execution_count": 4,
   "id": "70837e27",
   "metadata": {},
   "outputs": [],
   "source": [
    "# How many *unique* course names are there in this dataset, based on the \"Short Title\"?\n",
    "\n",
    "# YOUR CODE HERE"
   ]
  },
  {
   "cell_type": "code",
   "execution_count": 6,
   "id": "6e65f1cf",
   "metadata": {},
   "outputs": [],
   "source": [
    "# How many courses offerings (i.e. instances when a course was taught) are there for each major?\n",
    "\n",
    "# YOUR CODE HERE"
   ]
  },
  {
   "cell_type": "markdown",
   "id": "4a2e64e7",
   "metadata": {},
   "source": [
    "Ok, now that we have that down, let's answer some more complex questions:"
   ]
  },
  {
   "cell_type": "code",
   "execution_count": 13,
   "id": "65ae080a",
   "metadata": {},
   "outputs": [],
   "source": [
    "# Last semester (Spring 2023), how many courses were there taught in each Subject/Major?\n",
    "\n",
    "# YOUR CODE HERE"
   ]
  },
  {
   "cell_type": "code",
   "execution_count": 15,
   "id": "8e7db66e",
   "metadata": {},
   "outputs": [],
   "source": [
    "# Last semester (Spring 2023), what was the largest course?\n",
    "\n",
    "# YOUR CODE HERE"
   ]
  },
  {
   "cell_type": "code",
   "execution_count": 17,
   "id": "60c50bc6",
   "metadata": {},
   "outputs": [],
   "source": [
    "# Last semester (Spring 2023), which of the  majors in this dataset had the \n",
    "# highest and the lowest average class size?\n",
    "\n",
    "# YOUR CODE HERE"
   ]
  },
  {
   "cell_type": "code",
   "execution_count": 19,
   "id": "2e01ffb6",
   "metadata": {},
   "outputs": [],
   "source": [
    "# Last semester (Spring 2023), pick a Subject/Major and determine \n",
    "# the percent of classes with fewer than 20 students\n",
    "\n",
    "# YOUR CODE HERE"
   ]
  },
  {
   "cell_type": "markdown",
   "id": "e4df37f4",
   "metadata": {},
   "source": [
    "### CHALLENGE\n",
    "Write a function that takes in two inputs -- a list of courses by course \"Name\" (i.e. [\"CS-270-A\", \"CS-310-A\", \"ECON-107-A\"] and a dataframe of course. It then returns the **mean experienced class size** for a student in those classes.\n"
   ]
  },
  {
   "cell_type": "code",
   "execution_count": 22,
   "id": "beb7251a",
   "metadata": {},
   "outputs": [],
   "source": [
    "# YOUR CODE HERE\n",
    "def mean_exp_class_size(course_list, dataframe):"
   ]
  },
  {
   "cell_type": "code",
   "execution_count": null,
   "id": "e42e7122",
   "metadata": {},
   "outputs": [],
   "source": [
    "# Sample test case\n",
    "#course_list = [\"CS-270-B\", \"CS-310-A\", \"ECON-107-A\"]\n",
    "#mean_exp_class_size(course_list, df_SP2023)"
   ]
  },
  {
   "cell_type": "markdown",
   "id": "e1630506",
   "metadata": {},
   "source": [
    "## Part 2: Visualizing the data\n",
    "\n",
    "Now, this is fun... but we can also use _visualizations_ to explore the data.\n",
    "\n",
    "First, let's consider the *distributions* of the course sizes.\n",
    "\n",
    "How might we use visualizations to examine each Subject/Major?\n",
    "\n",
    "We could start by making a [histogram](https://matplotlib.org/stable/api/_as_gen/matplotlib.pyplot.hist.html) for each one..."
   ]
  },
  {
   "cell_type": "code",
   "execution_count": 69,
   "id": "9e93aa31",
   "metadata": {},
   "outputs": [],
   "source": [
    "# Make a histogram of the course sizes (for all subjects, all years together)\n",
    "# What do you notice?\n",
    "\n",
    "# YOUR CODE HERE\n"
   ]
  },
  {
   "cell_type": "code",
   "execution_count": 30,
   "id": "df9388dd",
   "metadata": {},
   "outputs": [],
   "source": [
    "# Drop any course that only has 0 or 1 students in it\n",
    "# You can either make a new data frame or modify the existing one\n",
    "\n",
    "# YOUR CODE HERE\n"
   ]
  },
  {
   "cell_type": "code",
   "execution_count": 71,
   "id": "a12f8ee3",
   "metadata": {},
   "outputs": [],
   "source": [
    "# Now redraw the histogram -- how is it different?\n",
    "\n",
    "# YOUR CODE HERE \n"
   ]
  },
  {
   "cell_type": "code",
   "execution_count": 32,
   "id": "595eebe2",
   "metadata": {},
   "outputs": [],
   "source": [
    "# Pick any Subject/Major you like\n",
    "# Make a histogram of the class sizes for that Major\n",
    "\n",
    "# YOUR CODE HERE"
   ]
  },
  {
   "cell_type": "markdown",
   "id": "9e662f54",
   "metadata": {},
   "source": [
    "Or, we could put multiple majors on one histogram.\n",
    "\n",
    "Let's try that out...\n",
    "\n",
    "Other things to try:\n",
    "* How is it different if we use `density=True` or `density=False`?\n",
    "* Can you add a legend?"
   ]
  },
  {
   "cell_type": "code",
   "execution_count": 36,
   "id": "7c6384f7",
   "metadata": {},
   "outputs": [],
   "source": [
    "# Pick three Majors and plot histograms of their course sizes on the same plot...\n",
    "\n",
    "# YOUR CODE HERE"
   ]
  },
  {
   "cell_type": "markdown",
   "id": "3ef91f79",
   "metadata": {},
   "source": [
    "## Part 3: Introducing Seaborn\n",
    "\n",
    "Ok, we are getting closer... But is there a better way? Let's try some of the plots we can make with Seaborn.\n",
    "\n",
    "__What is Seaborn?__\n",
    "\n",
    "Seaborn is a visualization package that runs on top of Matplotlib. It is specially designed for statistical analysis and for exploring distributions in data. You can find out more at: https://seaborn.pydata.org/. A great place to start is the [Seaborn Tutorial](https://seaborn.pydata.org/tutorial/introduction.html).\n",
    "\n",
    "__Installation__\n",
    "\n",
    "Depending on your Anaconda installation, you may need to install the package. \n",
    "\n",
    "First, try running the import code block below. If it works, great! \n",
    "\n",
    "If it doesn't work, open up a terminal and run this to install:\n",
    "\n",
    "    conda install seaborn\n",
    "\n"
   ]
  },
  {
   "cell_type": "code",
   "execution_count": 5,
   "id": "7ed4219b",
   "metadata": {},
   "outputs": [],
   "source": [
    "# import Seaborn\n",
    "import seaborn as sns"
   ]
  },
  {
   "cell_type": "markdown",
   "id": "e3373845",
   "metadata": {},
   "source": [
    "The next part is new, so follow along as best you can.\n",
    "\n",
    "You don't need to know everything (I certainly don't!). Just get comfortable trying to figure our how these plots work by consulting the [Seaborn documentation](https://seaborn.pydata.org/tutorial.html) and looking for examples that help you understand."
   ]
  },
  {
   "cell_type": "code",
   "execution_count": 72,
   "id": "1dad5aa7",
   "metadata": {},
   "outputs": [],
   "source": [
    "# We can use a seaborn .distplot()\n",
    "# It's basically the same as a matplotlib histogram\n",
    "# We can put all of the Subjects/Majors on one plot:\n",
    "\n",
    "# NOTE: You can uncomment the code below to create the plots\n",
    "# But if you named your dataframes something different, you'll need to update that part\n",
    "\n",
    "#sns.displot(df_courses, x=\"Active Students Count\")"
   ]
  },
  {
   "cell_type": "code",
   "execution_count": 73,
   "id": "494a82dc",
   "metadata": {},
   "outputs": [],
   "source": [
    "# Or we could show just one major\n",
    "\n",
    "#sns.displot(df_courses[df_courses[\"Subject\"] == \"CS\"], x=\"Active Students Count\", hue=\"Subject\")"
   ]
  },
  {
   "cell_type": "code",
   "execution_count": 74,
   "id": "911c9f33",
   "metadata": {},
   "outputs": [],
   "source": [
    "# Or we could show them all...\n",
    "# But this is messy (although note how easy it is to make!)\n",
    "\n",
    "#sns.displot(df_courses, x=\"Active Students Count\", hue=\"Subject\")"
   ]
  },
  {
   "cell_type": "code",
   "execution_count": 75,
   "id": "e6bcdcdd",
   "metadata": {},
   "outputs": [],
   "source": [
    "# And here we are normalizing:\n",
    "\n",
    "#sns.displot(df_courses, x=\"Active Students Count\", hue=\"Subject\", stat=\"probability\")"
   ]
  },
  {
   "cell_type": "code",
   "execution_count": 76,
   "id": "22e7e246",
   "metadata": {},
   "outputs": [],
   "source": [
    "# We can also make a continuous plot\n",
    "# This is using \"kernel density estimation\" to smooth out the histogram\n",
    "# More at: https://en.wikipedia.org/wiki/Kernel_density_estimation\n",
    "\n",
    "#sns.displot(df_courses, x=\"Active Students Count\", kind=\"kde\")"
   ]
  },
  {
   "cell_type": "code",
   "execution_count": 77,
   "id": "f791d0af",
   "metadata": {},
   "outputs": [],
   "source": [
    "# Maybe it will be easier to see all of the courses if we use our smooth kernel density (kde) plot\n",
    "\n",
    "#sns.displot(df_courses, x=\"Active Students Count\", kind=\"kde\", hue=\"Subject\")"
   ]
  },
  {
   "cell_type": "markdown",
   "id": "decee101",
   "metadata": {},
   "source": [
    "To up our game, now let's visualize the Subjects/Majors separately.\n",
    "\n",
    "To do this, let's play with a **catplot** -- which stands for categorical plot. This is useful for dealing with categorical data, like the different Subjects and Courses that we have in this data set. For more on catplot, check out: https://seaborn.pydata.org/generated/seaborn.catplot.html"
   ]
  },
  {
   "cell_type": "code",
   "execution_count": 78,
   "id": "4ab6369f",
   "metadata": {},
   "outputs": [],
   "source": [
    "# A basic catplot showing the distributions...\n",
    "# Notice how every course (row) becomes a dot\n",
    "\n",
    "#sns.catplot(data=df_courses, x=\"Subject\", y=\"Active Students Count\", hue=\"Subject\")"
   ]
  },
  {
   "cell_type": "code",
   "execution_count": 83,
   "id": "7ce822c0",
   "metadata": {},
   "outputs": [],
   "source": [
    "# Ok, that is a good start... let's try adding a jitter and making it transparent\n",
    "\n",
    "#sns.catplot(data=df_courses, x=\"Subject\", y=\"Active Students Count\", alpha=0.25, jitter=True, hue=\"Subject\")"
   ]
  },
  {
   "cell_type": "code",
   "execution_count": 84,
   "id": "28f84ba6",
   "metadata": {},
   "outputs": [],
   "source": [
    "# This is a little messy, so let's try it with just the courses last semester\n",
    "\n",
    "#sns.catplot(data=df_SP2023, x=\"Subject\", y=\"Active Students Count\", alpha=0.5, hue=\"Subject\")"
   ]
  },
  {
   "cell_type": "code",
   "execution_count": 86,
   "id": "2e39360a",
   "metadata": {},
   "outputs": [],
   "source": [
    "# With this smaller dataset, we can also try a swarmplot\n",
    "# Notice the difference?\n",
    "\n",
    "#sns.swarmplot(data=df_SP2023, x=\"Subject\", y=\"Active Students Count\", hue=\"Subject\")"
   ]
  },
  {
   "cell_type": "markdown",
   "id": "7f0fd126",
   "metadata": {},
   "source": [
    "How else might we visualize distributions? We could do a box plot, also known as a box and whiskers plot. ([This post](https://www.khanacademy.org/math/statistics-probability/summarizing-quantitative-data/box-whisker-plots/a/box-plot-review) has a nice refresher on how box plots work.)"
   ]
  },
  {
   "cell_type": "code",
   "execution_count": 87,
   "id": "a1299fcf",
   "metadata": {},
   "outputs": [],
   "source": [
    "# We can change kind to \"box\"\n",
    "#sns.catplot(data=df_courses, x=\"Subject\", y=\"Active Students Count\", kind=\"box\")"
   ]
  },
  {
   "cell_type": "code",
   "execution_count": 88,
   "id": "aaee29c9",
   "metadata": {},
   "outputs": [],
   "source": [
    "# Or we could do a bar plot with errors\n",
    "#sns.catplot(data=df_courses, x=\"Subject\", y=\"Active Students Count\", kind=\"bar\")"
   ]
  },
  {
   "cell_type": "code",
   "execution_count": 89,
   "id": "7a8c5707",
   "metadata": {},
   "outputs": [],
   "source": [
    "# Or a violin plot (which is kind of like a box plot, but continuous)\n",
    "#sns.catplot(data=df_courses, x=\"Subject\", y=\"Active Students Count\", kind=\"violin\")"
   ]
  },
  {
   "cell_type": "markdown",
   "id": "5ff41e51",
   "metadata": {},
   "source": [
    "Notice how the different plots emphasize different features of the distributions. \n",
    "\n",
    "For example, the violin emphasizes many of the courses seems to have \"lumps\" --- these might be common course caps (12, 25, etc.).\n",
    "\n",
    "And the bar chart really emphasizes the means.\n",
    "\n",
    "What do the other visualizations empahsize?"
   ]
  },
  {
   "cell_type": "code",
   "execution_count": 50,
   "id": "0c326a61",
   "metadata": {},
   "outputs": [],
   "source": [
    "# What are some other ways we can explore distributions?"
   ]
  },
  {
   "cell_type": "code",
   "execution_count": 1,
   "id": "6d59e3ac",
   "metadata": {},
   "outputs": [],
   "source": [
    "# We could also make a grid of histograms\n",
    "\n",
    "#sns.displot(df_courses, x=\"Active Students Count\", col=\"Subject\", col_wrap=2, height=2, aspect=2)"
   ]
  },
  {
   "cell_type": "code",
   "execution_count": 2,
   "id": "79f708ea",
   "metadata": {},
   "outputs": [],
   "source": [
    "# We can also look at a BIVARIATE DISTRIBUTION...\n",
    "# That is, distribution according to two different variables at once\n",
    "\n",
    "# Let's look at the distribution of class size by term (semester) \n",
    "\n",
    "#sns.displot(df_courses, y=\"Active Students Count\", x=\"Term\")"
   ]
  },
  {
   "cell_type": "code",
   "execution_count": 3,
   "id": "2962478d",
   "metadata": {},
   "outputs": [],
   "source": [
    "# Oof, that's really ugly! Let's set the figure size\n",
    "\n",
    "#my_plot = sns.displot(df_courses, y=\"Active Students Count\", x=\"Term\", height=8, aspect=1.5)\n",
    "\n",
    "# And rotate the x-axes labels\n",
    "#plt.xticks(rotation=45)\n",
    "#plt.show()\n",
    "\n",
    "# I'm showing you this not because you need to know this, but because these are the things that\n",
    "# Will come up as you work on making plots :P"
   ]
  },
  {
   "cell_type": "markdown",
   "id": "eeda2fac",
   "metadata": {},
   "source": [
    "## Part 4: Time series\n",
    "These plots aren't really great for looking at trends over time. Right now, \"Term\" is categorical. Can we turn it into a date-time object?"
   ]
  },
  {
   "cell_type": "code",
   "execution_count": 7,
   "id": "a9c5ba35",
   "metadata": {},
   "outputs": [],
   "source": [
    "# Add three new columns into your data frame:\n",
    "# Year\n",
    "# Month\n",
    "# Day\n",
    "\n",
    "# For our purposes, you can assume that the Fall semester starts on August 1 \n",
    "# and the Spring semester stats on January 1\n",
    "\n",
    "\n",
    "# YOUR CODE HERE"
   ]
  },
  {
   "cell_type": "markdown",
   "id": "97db67f0",
   "metadata": {},
   "source": [
    "Now, use pd.to_datetime to make a new column, \"Date\", that is a datetime object using the \"Day\" \"Month\" and \"Year\" info. Remember pd.to_datetime: https://pandas.pydata.org/docs/reference/api/pandas.to_datetime.html"
   ]
  },
  {
   "cell_type": "code",
   "execution_count": 10,
   "id": "848babfa",
   "metadata": {},
   "outputs": [],
   "source": [
    "# YOUR CODE HERE"
   ]
  },
  {
   "cell_type": "code",
   "execution_count": 92,
   "id": "79a612dd",
   "metadata": {},
   "outputs": [],
   "source": [
    "# Let's make a bar chart showing the average class size over time\n",
    "\n",
    "#fig, axs = plt.subplots(figsize=(10, 4))\n",
    "\n",
    "#df_courses.groupby(df_courses[\"Date\"])[\"Active Students Count\"].mean().plot(kind='bar', rot=90, ax=axs)\n",
    "\n",
    "\n",
    "#plt.xlabel(\"Semester\")  # custom x label using Matplotlib\n",
    "\n",
    "#plt.ylabel(\"Average Class Size\")"
   ]
  },
  {
   "cell_type": "code",
   "execution_count": 93,
   "id": "d4711449",
   "metadata": {},
   "outputs": [],
   "source": [
    "# Or we could do a line\n",
    "#fig, axs = plt.subplots(figsize=(20, 4))\n",
    "\n",
    "#df_courses.groupby(df_courses[\"Date\"])[\"Active Students Count\"].mean().plot(kind='line', rot=90, ax=axs)\n",
    "\n",
    "\n",
    "#plt.xlabel(\"Semester\")  # custom x label using Matplotlib\n",
    "\n",
    "#plt.ylabel(\"Average Class Size\")"
   ]
  },
  {
   "cell_type": "code",
   "execution_count": 94,
   "id": "13ed2bdf",
   "metadata": {},
   "outputs": [],
   "source": [
    "# What about plotting the **distribution** over time?\n",
    "# This is what Seaborn does well!\n",
    "\n",
    "#sns.lineplot(x=\"Date\", y=\"Active Students Count\", data=df_courses)"
   ]
  },
  {
   "cell_type": "code",
   "execution_count": 95,
   "id": "2712d305",
   "metadata": {},
   "outputs": [],
   "source": [
    "# We can also look at the different Subjects/Majors\n",
    "\n",
    "#sns.lineplot(x=\"Date\", y=\"Active Students Count\", hue=\"Subject\", data=df_courses)"
   ]
  },
  {
   "cell_type": "code",
   "execution_count": 96,
   "id": "dedf1e53",
   "metadata": {},
   "outputs": [],
   "source": [
    "# Wow, that's messy! Let's clean it up\n",
    "# We can put the plots onto a grid\n",
    "# To do this, we use .relplot()\n",
    "\n",
    "#g = sns.relplot(\n",
    "#    data=df_courses,\n",
    "#    x=\"Date\", y=\"Active Students Count\", col=\"Subject\", hue=\"Subject\",\n",
    "#    kind=\"line\", col_wrap=2, height=2, aspect=1.5, legend=False,)"
   ]
  },
  {
   "cell_type": "code",
   "execution_count": 97,
   "id": "cf699cdc",
   "metadata": {},
   "outputs": [],
   "source": [
    "# What if we just want to look at the past 5 years?\n",
    "# Now that we have a datetime object, we can use a Boolean selector!\n",
    "\n",
    "#recent_classes = df_courses[df_courses[\"Date\"] >= \"01-01-2018\"]\n",
    "\n",
    "#g = sns.relplot(\n",
    "#    data=recent_classes,\n",
    "#    x=\"Date\", y=\"Active Students Count\", col=\"Subject\", hue=\"Subject\",\n",
    "#    kind=\"line\", col_wrap=2, height=2, aspect=1.5, legend=False,)"
   ]
  },
  {
   "cell_type": "markdown",
   "id": "f2a25ef4",
   "metadata": {},
   "source": [
    "### CHALLENGE: What else can you do with this data?\n",
    "\n",
    "You might try...\n",
    "* Analyzing the overall number of students taking each Subject over time\n",
    "* Coming up with another interesting question and answering it\n",
    "* Making a useful function (i.e. our mean expereinced class size estimator)\n",
    "* Making an exploratory visualization\n",
    "\n",
    "What else might you want to do?"
   ]
  }
 ],
 "metadata": {
  "kernelspec": {
   "display_name": "Python 3 (ipykernel)",
   "language": "python",
   "name": "python3"
  },
  "language_info": {
   "codemirror_mode": {
    "name": "ipython",
    "version": 3
   },
   "file_extension": ".py",
   "mimetype": "text/x-python",
   "name": "python",
   "nbconvert_exporter": "python",
   "pygments_lexer": "ipython3",
   "version": "3.9.16"
  }
 },
 "nbformat": 4,
 "nbformat_minor": 5
}
