{
 "cells": [
  {
   "cell_type": "markdown",
   "id": "1c9416fd",
   "metadata": {},
   "source": [
    "# In-Class Coding Activities: Thursday, September 7, 2023\n",
    "## Warm-Up: Working with a new dataset, Air Quality Index"
   ]
  },
  {
   "cell_type": "code",
   "execution_count": 3,
   "id": "699e3c10",
   "metadata": {},
   "outputs": [],
   "source": [
    "# Import pandas and numpy\n"
   ]
  },
  {
   "cell_type": "code",
   "execution_count": 91,
   "id": "d4880481",
   "metadata": {},
   "outputs": [],
   "source": [
    "# Import the \"daily_aqi_by_cbsa_2021.csv\"\n"
   ]
  },
  {
   "cell_type": "code",
   "execution_count": 166,
   "id": "5342cbcd",
   "metadata": {},
   "outputs": [],
   "source": [
    "# Take a look at the data frame. How many rows are in it?\n"
   ]
  },
  {
   "cell_type": "markdown",
   "id": "8504c3ab",
   "metadata": {},
   "source": [
    "Wow, that's a lot of rows! Each row is a city's AQI information on a particular day.\n",
    "\n",
    "Let's find a list of all of the cities in this dataframe by selecting the CBSA column and using [.unique()](https://pandas.pydata.org/docs/reference/api/pandas.Series.unique.html) on it."
   ]
  },
  {
   "cell_type": "code",
   "execution_count": 167,
   "id": "c1ac94f2",
   "metadata": {},
   "outputs": [],
   "source": [
    "# Select the CBSA column, then use .unique()\n",
    "\n",
    "# YOUR CODE HERE\n"
   ]
  },
  {
   "cell_type": "code",
   "execution_count": 168,
   "id": "66509ded",
   "metadata": {},
   "outputs": [],
   "source": [
    "# How many cities? Use length (len) to find out\n",
    "\n",
    "# YOUR CODE HERE\n"
   ]
  },
  {
   "cell_type": "markdown",
   "id": "c574f415",
   "metadata": {},
   "source": [
    "Pick a city, any city, that you want to focus on. Make a new data frame with just the rows for that city."
   ]
  },
  {
   "cell_type": "code",
   "execution_count": 169,
   "id": "fe6b4136",
   "metadata": {},
   "outputs": [],
   "source": [
    "# Make a dataframe for your single city (pick one). (City is in the \"CBSA\" column.)\n",
    "\n",
    "# YOUR CODE HERE\n",
    "\n"
   ]
  },
  {
   "cell_type": "code",
   "execution_count": 170,
   "id": "f896b3a2",
   "metadata": {},
   "outputs": [],
   "source": [
    "# For the city you picked, how many days are there of each Category (Good, Moderate, etc.)?\n",
    "\n",
    "# YOUR CODE HERE\n"
   ]
  },
  {
   "cell_type": "code",
   "execution_count": 171,
   "id": "339ec95c",
   "metadata": {},
   "outputs": [],
   "source": [
    "# For the city you picked, what was the mean AQI for the entire year?\n",
    "\n",
    "# YOUR CODE HERE\n"
   ]
  },
  {
   "cell_type": "markdown",
   "id": "0abc329e",
   "metadata": {},
   "source": [
    "# Part 2: Grouping and Pivoting Example (from Slides)\n"
   ]
  },
  {
   "cell_type": "code",
   "execution_count": null,
   "id": "96c3b52d",
   "metadata": {},
   "outputs": [],
   "source": [
    "# Read in the \"hogwarts-stats.csv\" file as a dataframe\n",
    "\n",
    "# YOUR CODE HERE\n",
    "\n",
    "# Use groupby to find the mean grade for each student\n",
    "\n",
    "# YOUR CODE HERE\n",
    "\n",
    "# Use groupby to find the number of students and total grade points for each house\n",
    "\n",
    "# YOUR CODE HERE\n",
    "\n",
    "# Repeat the tasks from above, but using pivot_table\n",
    "\n",
    "# YOUR CODE HERE\n",
    "\n",
    "# ANOTHER ONE...\n",
    "# Find the average grade in each class using groupby"
   ]
  },
  {
   "cell_type": "markdown",
   "id": "0ed61ac1",
   "metadata": {},
   "source": [
    "# Part 3: More Grouping...this time with some real data"
   ]
  },
  {
   "cell_type": "markdown",
   "id": "0e68c507",
   "metadata": {},
   "source": [
    "What if we wanted to find how many Good/Moderate/Unhealthy days there were for *every* city in this dataframe?\n",
    "\n",
    "We have many ways to do this...We could loop through all the cities and use value counts... \n",
    "\n",
    "Or we could do it very quickly and easily (using almost no code) using [.groupby](https://pandas.pydata.org/docs/reference/api/pandas.DataFrame.groupby.html) or [.pivot_table](https://pandas.pydata.org/docs/reference/api/pandas.pivot_table.html).\n",
    "\n",
    "Let's start with .groupby..."
   ]
  },
  {
   "cell_type": "code",
   "execution_count": 172,
   "id": "1a2962a4",
   "metadata": {},
   "outputs": [],
   "source": [
    "# How can we find the number of days in each Category (Good, Unhealthy, etc.) for each city?\n",
    "# Use groupby to group by the CBSA (that's the city), then use value_counts() on the Category\n",
    "\n",
    "# YOUR CODE HERE\n",
    "\n"
   ]
  },
  {
   "cell_type": "code",
   "execution_count": 173,
   "id": "2c0d1a00",
   "metadata": {},
   "outputs": [],
   "source": [
    "# We can now look up any city we want!\n",
    "# For example, how many Good, Moderate, etc. days were there in Walla Walla?\n"
   ]
  },
  {
   "cell_type": "markdown",
   "id": "ec1ecbd0",
   "metadata": {},
   "source": [
    "Now let's use pivot_table:"
   ]
  },
  {
   "cell_type": "code",
   "execution_count": 174,
   "id": "f7e92066",
   "metadata": {},
   "outputs": [],
   "source": [
    "# YOUR CODE HERE\n",
    "\n"
   ]
  },
  {
   "cell_type": "code",
   "execution_count": 175,
   "id": "bc78d384",
   "metadata": {},
   "outputs": [],
   "source": [
    "# In our new, pivoted dataframe, we can use .loc to select a row\n"
   ]
  },
  {
   "cell_type": "code",
   "execution_count": null,
   "id": "ed262194",
   "metadata": {},
   "outputs": [],
   "source": [
    "# Ok, what if we wanted to instead group by the DATE... how would we do that?"
   ]
  },
  {
   "cell_type": "code",
   "execution_count": 142,
   "id": "4e080e85",
   "metadata": {},
   "outputs": [],
   "source": [
    "# Use groupby to find out how many cities Good, Unhealthy, etc. days there are on any given day\n",
    "\n",
    "# YOUR CODE HERE\n"
   ]
  },
  {
   "cell_type": "code",
   "execution_count": 153,
   "id": "d9e6b18b",
   "metadata": {},
   "outputs": [],
   "source": [
    "# Now use pivot_table to do the same thing\n",
    "\n",
    "# YOUR CODE HERE\n"
   ]
  },
  {
   "cell_type": "code",
   "execution_count": null,
   "id": "7b5c1de6",
   "metadata": {},
   "outputs": [],
   "source": [
    "# Now we can start to answer more complex questions, like...\n",
    "# On what day of the year were the most cities in the U.S. experiencing\n",
    "# an AQI of Unhealthy for Sensitive Groups or worse?"
   ]
  },
  {
   "cell_type": "code",
   "execution_count": 155,
   "id": "2d750891",
   "metadata": {},
   "outputs": [],
   "source": [
    "# First we can make a new column that is adding up Unhealthy, Unhealthy for Sensitive Groups, and Very Unhealthy\n",
    "\n",
    "# YOUR CODE HERE\n"
   ]
  },
  {
   "cell_type": "code",
   "execution_count": 165,
   "id": "defd6a73",
   "metadata": {},
   "outputs": [
    {
     "data": {
      "text/plain": [
       "Date\n",
       "2021-08-02    58\n",
       "2021-07-20    58\n",
       "2021-08-07    55\n",
       "2021-08-03    53\n",
       "2021-08-01    51\n",
       "              ..\n",
       "2021-02-24     0\n",
       "2021-12-12     0\n",
       "2021-05-02     0\n",
       "2021-11-16     0\n",
       "2021-02-26     0\n",
       "Name: Unhealthy_or_worse, Length: 365, dtype: int64"
      ]
     },
     "execution_count": 165,
     "metadata": {},
     "output_type": "execute_result"
    }
   ],
   "source": [
    "# Then we can sort the values to find the maximum\n"
   ]
  },
  {
   "cell_type": "code",
   "execution_count": null,
   "id": "b32c9ded",
   "metadata": {},
   "outputs": [],
   "source": [
    "# We now see that on August 2, 2021 and July, 20, 2021 there were 58 cities in the U.S. with an AQI\n",
    "# of unhealthy for sensitive groups or worse!\n",
    "# We would have had a hard time answering this question without reshaping our original dataframe!"
   ]
  },
  {
   "cell_type": "markdown",
   "id": "2c67ba68",
   "metadata": {},
   "source": [
    "# Part 3: Challenge"
   ]
  },
  {
   "cell_type": "markdown",
   "id": "274cab9f",
   "metadata": {},
   "source": [
    "Check out [this list of awesome open datasets](https://github.com/awesomedata/awesome-public-datasets). \n",
    "\n",
    "Find one that is interesting to you. (For now, see if you can find one that is available as a CSV.)\n",
    "\n",
    "Download it and then import it into this notebook.\n",
    "\n",
    "What kinds of things can you do with it?\n",
    "\n",
    "How might you use .groupby or .pivot_tables to reshape the data so that you can ask and answer some interesting questions?"
   ]
  }
 ],
 "metadata": {
  "kernelspec": {
   "display_name": "Python 3 (ipykernel)",
   "language": "python",
   "name": "python3"
  },
  "language_info": {
   "codemirror_mode": {
    "name": "ipython",
    "version": 3
   },
   "file_extension": ".py",
   "mimetype": "text/x-python",
   "name": "python",
   "nbconvert_exporter": "python",
   "pygments_lexer": "ipython3",
   "version": "3.9.16"
  }
 },
 "nbformat": 4,
 "nbformat_minor": 5
}
