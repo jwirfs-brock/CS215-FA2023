{
 "cells": [
  {
   "cell_type": "markdown",
   "id": "9714db1e",
   "metadata": {},
   "source": [
    "## Part 1: Reviewing Jupyter notebook's features"
   ]
  },
  {
   "cell_type": "code",
   "execution_count": null,
   "id": "bfa1e45f",
   "metadata": {},
   "outputs": [],
   "source": [
    "### This cell is code. Change it to Markdown."
   ]
  },
  {
   "cell_type": "code",
   "execution_count": null,
   "id": "9094b318",
   "metadata": {},
   "outputs": [],
   "source": [
    "# Move this cell up one position (i.e., it should be above the one that is now Markdown)\n",
    "# Then execute it\n",
    "today = \"Tuesday\""
   ]
  },
  {
   "cell_type": "code",
   "execution_count": null,
   "id": "d924c6d8",
   "metadata": {},
   "outputs": [],
   "source": [
    "# Merge this cell with the one below. Then execute it.\n",
    "print(\"Today is\")"
   ]
  },
  {
   "cell_type": "code",
   "execution_count": null,
   "id": "97eacc9d",
   "metadata": {},
   "outputs": [],
   "source": [
    "print(today)"
   ]
  },
  {
   "cell_type": "markdown",
   "id": "07d502c7",
   "metadata": {},
   "source": [
    "Add a new cell directly **above** this cell. In that cell, **write the lines you need to import both pandas and numpy**."
   ]
  },
  {
   "cell_type": "code",
   "execution_count": null,
   "id": "8f568ed5",
   "metadata": {},
   "outputs": [],
   "source": [
    "# Split this cell into two cells\n",
    "# Run all the code above this cell"
   ]
  },
  {
   "cell_type": "markdown",
   "id": "f6bba2ee",
   "metadata": {},
   "source": [
    "## Part 2: Picking up from where we left off..."
   ]
  },
  {
   "cell_type": "markdown",
   "id": "dcf018f2",
   "metadata": {},
   "source": [
    "Last time, we were working with a data file called \"cost-space-launches.csv\". As a reminder, it comes from [Our World in Data](https://ourworldindata.org/grapher/cost-space-launches-low-earth-orbit).\n",
    "\n",
    "We're going to keep working with that file today.\n",
    "\n",
    "**Opening Data Files**"
   ]
  },
  {
   "cell_type": "code",
   "execution_count": null,
   "id": "00004158",
   "metadata": {},
   "outputs": [],
   "source": [
    "# Open up the csv file and save it as a dataframe called df_launch\n",
    "\n",
    "# YOUR CODE HERE\n"
   ]
  },
  {
   "cell_type": "code",
   "execution_count": null,
   "id": "ef3b918a",
   "metadata": {},
   "outputs": [],
   "source": [
    "# Show the first 15 rows of the dataframe\n",
    "\n",
    "# YOUR CODE HERE\n",
    "\n"
   ]
  },
  {
   "cell_type": "markdown",
   "id": "c5bd2689",
   "metadata": {},
   "source": [
    "**Doing calculations on columns**"
   ]
  },
  {
   "cell_type": "code",
   "execution_count": null,
   "id": "4e8d67cd",
   "metadata": {},
   "outputs": [],
   "source": [
    "# How would be convert cost per kilogram to cost per pound?\n",
    "# Make a new column that is equal to the cost per pound to launch each rocket\n",
    "# Remember, 1 kg = 2.2 pounds (lbs)\n",
    "\n",
    "# YOUR CODE HERE"
   ]
  },
  {
   "cell_type": "code",
   "execution_count": null,
   "id": "59eaa4c7",
   "metadata": {},
   "outputs": [],
   "source": [
    "# There's another way to do this... using .apply\n",
    "# You can read more about .apply here: https://pandas.pydata.org/docs/reference/api/pandas.DataFrame.apply.html\n",
    "\n",
    "# TODO: \n",
    "# First, Write a function that converts a kilogram value to a pound value\n",
    "\n",
    "# Then, use .apply to apply that function to the cost per kilograph column\n",
    "# and make a new column, cost per pound\n",
    "\n",
    "# YOUR CODE HERE"
   ]
  },
  {
   "cell_type": "markdown",
   "id": "b9ba15c3",
   "metadata": {},
   "source": [
    "**Selecting and counting the data**"
   ]
  },
  {
   "cell_type": "code",
   "execution_count": null,
   "id": "557f4634",
   "metadata": {},
   "outputs": [],
   "source": [
    "# How many rockets are there in each launch_class (Small, Medium, Heavy?)\n",
    "\n",
    "# YOUR CODE HERE\n",
    "\n",
    "# Hint: We can use a pandas method called .value_counts()\n",
    "# See: https://pandas.pydata.org/docs/reference/api/pandas.Series.value_counts.html\n"
   ]
  },
  {
   "cell_type": "code",
   "execution_count": null,
   "id": "44cdd996",
   "metadata": {},
   "outputs": [],
   "source": [
    "# How many (distinct) rockets were launched in each year?\n",
    "\n",
    "# YOUR CODE HERE\n"
   ]
  },
  {
   "cell_type": "code",
   "execution_count": null,
   "id": "7e081cd9",
   "metadata": {},
   "outputs": [],
   "source": [
    "# How would we select just the rockets from 1994?\n",
    "# Save it as a NEW dataframe\n",
    "\n",
    "# YOUR CODE HERE\n",
    "\n"
   ]
  },
  {
   "cell_type": "markdown",
   "id": "8fde1f76",
   "metadata": {},
   "source": [
    "How did that code work? We can select values by using a _\"Boolean mask\"_:\n",
    "- Select values from the dataframe based on Boolean values!\n",
    "- This Boolean statement creates a SERIES\n",
    "- We then use that series to select the rows we want"
   ]
  },
  {
   "cell_type": "code",
   "execution_count": null,
   "id": "abe36c98",
   "metadata": {},
   "outputs": [],
   "source": [
    "# Let's try a different one: How many rockets cost more than $10000/kg ???\n",
    "\n",
    "# YOUR CODE HERE\n",
    "# First select using a Boolean mask\n",
    "# Then, determine the size of that new data_frame\n"
   ]
  },
  {
   "cell_type": "code",
   "execution_count": null,
   "id": "f5ecf354",
   "metadata": {},
   "outputs": [],
   "source": [
    "# Now we can apply this function to our data frame!!\n",
    "# Here's where we use .apply"
   ]
  },
  {
   "cell_type": "code",
   "execution_count": null,
   "id": "3cb09ba7",
   "metadata": {},
   "outputs": [],
   "source": [
    "# Ok, let's try this: How many rockets in this dataset are in the Titan program?\n",
    "\n",
    "# First, let's write a little function that selecfts just the first word using Python's .split() method\n",
    "\n",
    "# YOUR CODE HERE\n"
   ]
  },
  {
   "cell_type": "code",
   "execution_count": null,
   "id": "2af65e82",
   "metadata": {},
   "outputs": [],
   "source": [
    "# Ok, now let's select the Titan rockets\n",
    "\n",
    "# YOUR CODE HERE"
   ]
  },
  {
   "cell_type": "markdown",
   "id": "a76a6b01",
   "metadata": {},
   "source": [
    "## Part 3: Working with a new dataset, Air Quality Index"
   ]
  },
  {
   "cell_type": "markdown",
   "id": "16af012c",
   "metadata": {},
   "source": [
    "In this portion, we'll be working with Air Quality Index (AQI) data for Walla Walla, WA downloaded from this [EPA data portal](https://www.epa.gov/outdoor-air-quality-data/air-quality-index-daily-values-report)."
   ]
  },
  {
   "cell_type": "code",
   "execution_count": null,
   "id": "bf454736",
   "metadata": {},
   "outputs": [],
   "source": [
    "# Import the data file and save it as a data frame\n",
    "\n",
    "# YOUR CODE HERE\n"
   ]
  },
  {
   "cell_type": "code",
   "execution_count": null,
   "id": "4d23e502",
   "metadata": {},
   "outputs": [],
   "source": [
    "# Take a look at the datadata frame -- what does it contain?\n",
    "# How many rows? How many columns? What are the data types? \n",
    "# How do we find those out?"
   ]
  },
  {
   "cell_type": "markdown",
   "id": "c4f1502e",
   "metadata": {},
   "source": [
    "How many days in 2022 were \"Good,\" \"Unhealthy,\" etc.?\n",
    "\n",
    "We are going to add a column that tells us the color-scale value of the \"Overall AQI Value.\" \n",
    "\n",
    "Let's do this in steps...\n",
    "\n",
    "First, we will write a function that takes in an AQI value, as an integer, and returns its level of conern. Remember the color scale:\n",
    "<img src=\"AQI-color-scale.png\" alt=\"AQI Color Scale\" title=\"AQI Color Scale\" width=\"300\"/> \n",
    "\n",
    "Then, we will create a new column in our data frame, using .apply, with the level of concern."
   ]
  },
  {
   "cell_type": "code",
   "execution_count": null,
   "id": "2ebb6d89",
   "metadata": {},
   "outputs": [],
   "source": [
    "# Write your function here. It takes in an integer and returns the corresponding color\n",
    "\n",
    "# YOUR CODE HERE"
   ]
  },
  {
   "cell_type": "code",
   "execution_count": null,
   "id": "9759bd2e",
   "metadata": {},
   "outputs": [],
   "source": [
    "# Now use .apply to make a new column that converns the overall value to the color\n",
    "\n",
    "# YOUR CODE HERE"
   ]
  },
  {
   "cell_type": "code",
   "execution_count": null,
   "id": "0cc3f3ce",
   "metadata": {},
   "outputs": [],
   "source": [
    "# Now we can find the number of days in each health category:\n",
    "\n",
    "# YOUR CODE HERE\n"
   ]
  },
  {
   "cell_type": "code",
   "execution_count": null,
   "id": "d3731fc2",
   "metadata": {},
   "outputs": [],
   "source": [
    "# Make a new data frame with just the days with a concern level that is worse than \"Good\"\n",
    "\n",
    "# YOUR CODE HERE\n",
    "\n"
   ]
  },
  {
   "cell_type": "markdown",
   "id": "c7bd6f83",
   "metadata": {},
   "source": [
    "### Challenge: Download data from a different city\n",
    "\n",
    "Go to [this site](https://www.epa.gov/outdoor-air-quality-data/air-quality-index-daily-values-report) and download a .csv file for a different city (maybe where you grew up, maybe where you want to move after you graduate, etc.).\n",
    "\n",
    "(Tip: Select Pollutant --> \"All AQI polutants\")\n",
    "\n",
    "Import that .csv into this notebook. Then, answer:\n",
    "* What was the average (mean) AQI for the whole year?\n",
    "* What was the most frequent kind of day (Good, Moderate, Unhealthy for Sensitive Groups, etc.)"
   ]
  },
  {
   "cell_type": "code",
   "execution_count": null,
   "id": "c6e70502",
   "metadata": {},
   "outputs": [],
   "source": [
    "# YOUR CODE HERE"
   ]
  },
  {
   "cell_type": "markdown",
   "id": "976bfacd",
   "metadata": {},
   "source": [
    "### Extra Challenge: Rethinking the scale\n",
    "Given what you have read this week from Hans Rosling and Melanie Feinberg, what do you think about the AQI color/severity scale? It serves a purpose, but it may not work for everyone.\n",
    "\n",
    "How might you RECREATE the scale for:\n",
    "* Someone who has health concerns?\n",
    "* Somehow how is especially sensitive to ozone? "
   ]
  },
  {
   "cell_type": "markdown",
   "id": "e880c915",
   "metadata": {},
   "source": [
    "### Double Extra Challenge: Another way of formatting air quality data\n",
    "\n",
    "On Canvas, I've put another AQI file, \"daily_aqi_by_cbsa_2022.csv\", downloaded from the [EPA](https://aqs.epa.gov/aqsweb/airdata/download_files.html#AQI).\n",
    "\n",
    "Import this file and take a look at it.\n",
    "\n",
    "What does it contain? What kinds of questions can you ask and answer with it?"
   ]
  },
  {
   "cell_type": "code",
   "execution_count": null,
   "id": "0581efa0",
   "metadata": {},
   "outputs": [],
   "source": [
    "# YOUR CODE HERE"
   ]
  }
 ],
 "metadata": {
  "kernelspec": {
   "display_name": "Python 3 (ipykernel)",
   "language": "python",
   "name": "python3"
  },
  "language_info": {
   "codemirror_mode": {
    "name": "ipython",
    "version": 3
   },
   "file_extension": ".py",
   "mimetype": "text/x-python",
   "name": "python",
   "nbconvert_exporter": "python",
   "pygments_lexer": "ipython3",
   "version": "3.9.16"
  }
 },
 "nbformat": 4,
 "nbformat_minor": 5
}
