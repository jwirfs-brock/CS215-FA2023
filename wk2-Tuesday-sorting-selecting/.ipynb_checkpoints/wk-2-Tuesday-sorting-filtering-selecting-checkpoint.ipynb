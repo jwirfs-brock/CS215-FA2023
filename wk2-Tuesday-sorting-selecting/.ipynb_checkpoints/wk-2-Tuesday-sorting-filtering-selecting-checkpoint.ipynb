{
 "cells": [
  {
   "cell_type": "markdown",
   "id": "9714db1e",
   "metadata": {},
   "source": [
    "## Part 1: Reviewing Jupyter notebook's features"
   ]
  },
  {
   "cell_type": "code",
   "execution_count": null,
   "id": "bfa1e45f",
   "metadata": {},
   "outputs": [],
   "source": [
    "### This cell is code. Change it to Markdown."
   ]
  },
  {
   "cell_type": "code",
   "execution_count": null,
   "id": "9094b318",
   "metadata": {},
   "outputs": [],
   "source": [
    "# Move this cell up one position (i.e., it should be above the one that is now Markdown)\n",
    "# Then execute it\n",
    "today = \"Tuesday\""
   ]
  },
  {
   "cell_type": "code",
   "execution_count": null,
   "id": "d924c6d8",
   "metadata": {},
   "outputs": [],
   "source": [
    "# Merge this cell with the one below. Then execute it.\n",
    "print(\"Today is\")"
   ]
  },
  {
   "cell_type": "code",
   "execution_count": null,
   "id": "97eacc9d",
   "metadata": {},
   "outputs": [],
   "source": [
    "print(today)"
   ]
  },
  {
   "cell_type": "markdown",
   "id": "07d502c7",
   "metadata": {},
   "source": [
    "Add a new cell directly **above** this cell. In that cell, **write the lines you need to import both pandas and numpy**."
   ]
  },
  {
   "cell_type": "code",
   "execution_count": null,
   "id": "8f568ed5",
   "metadata": {},
   "outputs": [],
   "source": [
    "# Split this cell into two cells\n",
    "# Run all the code above this cell"
   ]
  },
  {
   "cell_type": "markdown",
   "id": "f6bba2ee",
   "metadata": {},
   "source": [
    "## Part 2: Picking up from where we left off..."
   ]
  },
  {
   "cell_type": "markdown",
   "id": "dcf018f2",
   "metadata": {},
   "source": [
    "Last time, we were working with a data file called \"cost-space-launches.csv\". As a reminder, it comes from [Our World in Data](https://ourworldindata.org/grapher/cost-space-launches-low-earth-orbit).\n",
    "\n",
    "We're going to keep working with that file today."
   ]
  },
  {
   "cell_type": "code",
   "execution_count": null,
   "id": "00004158",
   "metadata": {},
   "outputs": [],
   "source": [
    "# Open up the csv file and save it as a dataframe called df_launch\n",
    "\n",
    "# YOUR CODE HERE\n"
   ]
  },
  {
   "cell_type": "code",
   "execution_count": null,
   "id": "ef3b918a",
   "metadata": {},
   "outputs": [],
   "source": [
    "# Show the first 15 rows of the dataframe\n",
    "\n",
    "# YOUR CODE HERE\n",
    "\n"
   ]
  },
  {
   "cell_type": "code",
   "execution_count": null,
   "id": "557f4634",
   "metadata": {},
   "outputs": [],
   "source": [
    "# How many rockets are there in each launch_class (Small, Medium, Heavy?)\n",
    "\n",
    "# YOUR CODE HERE\n"
   ]
  },
  {
   "cell_type": "code",
   "execution_count": null,
   "id": "44cdd996",
   "metadata": {},
   "outputs": [],
   "source": [
    "# How many rocket types (Entity) are there in each year?\n"
   ]
  },
  {
   "cell_type": "code",
   "execution_count": null,
   "id": "7e081cd9",
   "metadata": {},
   "outputs": [],
   "source": [
    "# How would we select just the rockets from 1994?\n",
    "# Make sure to save it as a NEW dataframe\n",
    "\n",
    "# YOUR CODE HERE\n",
    "\n"
   ]
  },
  {
   "cell_type": "code",
   "execution_count": null,
   "id": "0c4a72f7",
   "metadata": {},
   "outputs": [],
   "source": [
    "# Remember, we can do this by making a \"Boolean mask\"\n",
    "# We can then select values from the dataframe based on those Boolean values!\n",
    "# Making our Boolean statement creates a SERIES, then we use that series to select rows"
   ]
  },
  {
   "cell_type": "code",
   "execution_count": null,
   "id": "abe36c98",
   "metadata": {},
   "outputs": [],
   "source": [
    "# Let's try a different one: How many rockets that cost more than $10000/kg ???\n",
    "\n",
    "# YOUR CODE HERE\n",
    "# First select using a Boolean mask\n",
    "# Then, determine the size of that new data_frame\n"
   ]
  },
  {
   "cell_type": "code",
   "execution_count": null,
   "id": "59eaa4c7",
   "metadata": {},
   "outputs": [],
   "source": [
    "# Remember last time, how we made a cost_per_lb column? Here's how we did that last time...\n",
    "# df_launch[\"cost_per_lb\"] = df_launch[\"cost_per_kg\"]/2.2\n",
    "\n",
    "# But there's another way to do this... using .apply\n",
    "# You can read more about .apply here: https://pandas.pydata.org/docs/reference/api/pandas.DataFrame.apply.html"
   ]
  },
  {
   "cell_type": "code",
   "execution_count": null,
   "id": "12b9dceb",
   "metadata": {},
   "outputs": [],
   "source": [
    "# Say we write a function that converts cost per kg to cost per pound\n"
   ]
  },
  {
   "cell_type": "code",
   "execution_count": null,
   "id": "f5ecf354",
   "metadata": {},
   "outputs": [],
   "source": [
    "# Now we can apply this function to our data frame!!\n",
    "# Here's where we use .apply"
   ]
  },
  {
   "cell_type": "code",
   "execution_count": null,
   "id": "3cb09ba7",
   "metadata": {},
   "outputs": [],
   "source": [
    "# Ok, let's try this: How many rockets in this dataset are in the Titan program?\n",
    "# Let's write a little function that selecfts just the first word using Python's .split() method\n",
    "\n",
    "# YOUR CODE HERE\n"
   ]
  },
  {
   "cell_type": "code",
   "execution_count": null,
   "id": "ebd183f7",
   "metadata": {},
   "outputs": [],
   "source": [
    "# Now, let's make a new column that gets that word using .apply\n"
   ]
  },
  {
   "cell_type": "code",
   "execution_count": null,
   "id": "2af65e82",
   "metadata": {},
   "outputs": [],
   "source": [
    "# Ok, now let's select the Titan rockets\n",
    "\n",
    "# YOUR CODE HERE"
   ]
  },
  {
   "cell_type": "markdown",
   "id": "a76a6b01",
   "metadata": {},
   "source": [
    "## Part 3: Working with a new dataset, Air Quality Index"
   ]
  },
  {
   "cell_type": "markdown",
   "id": "16af012c",
   "metadata": {},
   "source": [
    "In this portion, we'll be working with Air Quality Index (AQI) data for Walla Walla, WA downloaded from this [EPA data portal](https://www.epa.gov/outdoor-air-quality-data/air-quality-index-daily-values-report)."
   ]
  },
  {
   "cell_type": "code",
   "execution_count": null,
   "id": "bf454736",
   "metadata": {},
   "outputs": [],
   "source": [
    "# Import the data file and save it as a data frame\n",
    "\n",
    "# YOUR CODE HERE\n"
   ]
  },
  {
   "cell_type": "code",
   "execution_count": null,
   "id": "4d23e502",
   "metadata": {},
   "outputs": [],
   "source": [
    "# Take a look at the datadata frame -- what does it contain?\n",
    "# How many rows? How many columns? What are the data types? \n",
    "# How do we find those out?"
   ]
  },
  {
   "cell_type": "markdown",
   "id": "c4f1502e",
   "metadata": {},
   "source": [
    "How many days in 2022 were \"Good,\" \"Unhealthy,\" etc.?\n",
    "\n",
    "We are going to add a column that tells us the color-scale value of the \"Overall AQI Value.\" \n",
    "\n",
    "Let's do this in steps...\n",
    "\n",
    "First, we will write a function that takes in an AQI value, as an integer, and returns its level of conern. Remember the color scale:\n",
    "<img src=\"AQI-color-scale.png\" alt=\"AQI Color Scale\" title=\"AQI Color Scale\" width=\"300\"/> \n",
    "\n",
    "Then, we will create a new column in our data frame, using .apply, with the level of concern."
   ]
  },
  {
   "cell_type": "code",
   "execution_count": null,
   "id": "2ebb6d89",
   "metadata": {},
   "outputs": [],
   "source": [
    "# Write your function here. It takes in an integer and returns the corresponding color\n",
    "\n",
    "# YOUR CODE HERE"
   ]
  },
  {
   "cell_type": "code",
   "execution_count": null,
   "id": "9759bd2e",
   "metadata": {},
   "outputs": [],
   "source": [
    "# Now use .apply to make a new column that converns the overall value to the color\n",
    "\n",
    "# YOUR CODE HERE"
   ]
  },
  {
   "cell_type": "code",
   "execution_count": null,
   "id": "0cc3f3ce",
   "metadata": {},
   "outputs": [],
   "source": [
    "# Now we can find the number of days in each health category:\n",
    "\n",
    "# YOUR CODE HERE\n"
   ]
  },
  {
   "cell_type": "code",
   "execution_count": null,
   "id": "d3731fc2",
   "metadata": {},
   "outputs": [],
   "source": [
    "# Make a new data frame with just the days with a cocern level that is worse than \"Good\"\n",
    "\n",
    "# YOUR CODE HERE\n",
    "\n"
   ]
  },
  {
   "cell_type": "markdown",
   "id": "c7bd6f83",
   "metadata": {},
   "source": [
    "### Challenge: Download data from a different city\n",
    "\n",
    "Go to [this site](https://www.epa.gov/outdoor-air-quality-data/air-quality-index-daily-values-report) and download a .csv file for a different city (maybe where you grew up, maybe where you want to move after you graduate, etc.).\n",
    "\n",
    "(Tip: Select Pollutant --> \"All AQI polutants\")\n",
    "\n",
    "Import that .csv into this notebook. Then, answer:\n",
    "* What was the average (mean) AQI for the whole year?\n",
    "* What was the most frequent kind of day (Good, Moderate, Unhealthy for Sensitive Groups, etc.)"
   ]
  },
  {
   "cell_type": "code",
   "execution_count": null,
   "id": "c6e70502",
   "metadata": {},
   "outputs": [],
   "source": [
    "# YOUR CODE HERE"
   ]
  },
  {
   "cell_type": "markdown",
   "id": "976bfacd",
   "metadata": {},
   "source": [
    "### Extra Challenge: Rethinking the scale\n",
    "Given what you have read this week from Hans Rosling and Melanie Feinberg, what do you think about the AQI color/severity scale? It serves a purpose, but it may not work for everyone.\n",
    "\n",
    "How might you RECREATE the scale for:\n",
    "* Someone who has health concerns?\n",
    "* Somehow how is especially sensitive to ozone? "
   ]
  },
  {
   "cell_type": "markdown",
   "id": "e880c915",
   "metadata": {},
   "source": [
    "### Double Extra Challenge: Another way of formatting air quality data\n",
    "\n",
    "On Canvas, I've put another AQI file, \"daily_aqi_by_cbsa_2022.csv\", downloaded from the [EPA](https://aqs.epa.gov/aqsweb/airdata/download_files.html#AQI).\n",
    "\n",
    "Import this file and take a look at it.\n",
    "\n",
    "What does it contain? What kinds of questions can you ask and answer with it?"
   ]
  },
  {
   "cell_type": "code",
   "execution_count": null,
   "id": "0581efa0",
   "metadata": {},
   "outputs": [],
   "source": [
    "# YOUR CODE HERE"
   ]
  }
 ],
 "metadata": {
  "kernelspec": {
   "display_name": "Python 3 (ipykernel)",
   "language": "python",
   "name": "python3"
  },
  "language_info": {
   "codemirror_mode": {
    "name": "ipython",
    "version": 3
   },
   "file_extension": ".py",
   "mimetype": "text/x-python",
   "name": "python",
   "nbconvert_exporter": "python",
   "pygments_lexer": "ipython3",
   "version": "3.9.16"
  }
 },
 "nbformat": 4,
 "nbformat_minor": 5
}
